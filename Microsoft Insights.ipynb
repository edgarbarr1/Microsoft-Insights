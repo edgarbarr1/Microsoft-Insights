{
 "cells": [
  {
   "cell_type": "markdown",
   "metadata": {},
   "source": [
    "# Microsoft Insights #"
   ]
  },
  {
   "cell_type": "markdown",
   "metadata": {},
   "source": [
    "## Objective: ##\n",
    "Microsoft has tasked us with figuring out what types of films are currently doing the best at the box office."
   ]
  },
  {
   "cell_type": "markdown",
   "metadata": {},
   "source": [
    "A database has been provided under as `movies.db`. We will use this dataset to make insights and visualizations that can help its shareholders make educated decisions about the type of movies that they are going to pursue."
   ]
  },
  {
   "cell_type": "markdown",
   "metadata": {},
   "source": [
    "We will start by importing all the necessary libraries to explore our dataset and visualize it:"
   ]
  },
  {
   "cell_type": "code",
   "execution_count": 83,
   "metadata": {},
   "outputs": [],
   "source": [
    "import pandas as pd\n",
    "import sqlite3\n",
    "import matplotlib.pyplot as plt\n",
    "%matplotlib inline\n",
    "import numpy as np"
   ]
  },
  {
   "cell_type": "markdown",
   "metadata": {},
   "source": [
    "## Exploring the Data"
   ]
  },
  {
   "cell_type": "markdown",
   "metadata": {},
   "source": [
    "Transform the database into an easy to read `DataFrame` using the Pandas library."
   ]
  },
  {
   "cell_type": "markdown",
   "metadata": {},
   "source": [
    "Explore the data in the table `rotten_tomatoes_movies`."
   ]
  },
  {
   "cell_type": "code",
   "execution_count": 84,
   "metadata": {},
   "outputs": [
    {
     "data": {
      "text/html": [
       "<div>\n",
       "<style scoped>\n",
       "    .dataframe tbody tr th:only-of-type {\n",
       "        vertical-align: middle;\n",
       "    }\n",
       "\n",
       "    .dataframe tbody tr th {\n",
       "        vertical-align: top;\n",
       "    }\n",
       "\n",
       "    .dataframe thead th {\n",
       "        text-align: right;\n",
       "    }\n",
       "</style>\n",
       "<table border=\"1\" class=\"dataframe\">\n",
       "  <thead>\n",
       "    <tr style=\"text-align: right;\">\n",
       "      <th></th>\n",
       "      <th>idx</th>\n",
       "      <th>rotten_tomatoes_link</th>\n",
       "      <th>movie_title</th>\n",
       "      <th>movie_info</th>\n",
       "      <th>critics_consensus</th>\n",
       "      <th>content_rating</th>\n",
       "      <th>genres</th>\n",
       "      <th>directors</th>\n",
       "      <th>authors</th>\n",
       "      <th>actors</th>\n",
       "      <th>...</th>\n",
       "      <th>production_company</th>\n",
       "      <th>tomatometer_status</th>\n",
       "      <th>tomatometer_rating</th>\n",
       "      <th>tomatometer_count</th>\n",
       "      <th>audience_status</th>\n",
       "      <th>audience_rating</th>\n",
       "      <th>audience_count</th>\n",
       "      <th>tomatometer_top_critics_count</th>\n",
       "      <th>tomatometer_fresh_critics_count</th>\n",
       "      <th>tomatometer_rotten_critics_count</th>\n",
       "    </tr>\n",
       "  </thead>\n",
       "  <tbody>\n",
       "    <tr>\n",
       "      <th>0</th>\n",
       "      <td>0</td>\n",
       "      <td>m/0814255</td>\n",
       "      <td>Percy Jackson &amp; the Olympians: The Lightning T...</td>\n",
       "      <td>Always trouble-prone, the life of teenager Per...</td>\n",
       "      <td>Though it may seem like just another Harry Pot...</td>\n",
       "      <td>PG</td>\n",
       "      <td>Action &amp; Adventure, Comedy, Drama, Science Fic...</td>\n",
       "      <td>Chris Columbus</td>\n",
       "      <td>Craig Titley, Chris Columbus, Rick Riordan</td>\n",
       "      <td>Logan Lerman, Brandon T. Jackson, Alexandra Da...</td>\n",
       "      <td>...</td>\n",
       "      <td>20th Century Fox</td>\n",
       "      <td>Rotten</td>\n",
       "      <td>49.00</td>\n",
       "      <td>149.00</td>\n",
       "      <td>Spilled</td>\n",
       "      <td>53.00</td>\n",
       "      <td>254421.00</td>\n",
       "      <td>43</td>\n",
       "      <td>73</td>\n",
       "      <td>76</td>\n",
       "    </tr>\n",
       "    <tr>\n",
       "      <th>1</th>\n",
       "      <td>1</td>\n",
       "      <td>m/0878835</td>\n",
       "      <td>Please Give</td>\n",
       "      <td>Kate (Catherine Keener) and her husband Alex (...</td>\n",
       "      <td>Nicole Holofcener's newest might seem slight i...</td>\n",
       "      <td>R</td>\n",
       "      <td>Comedy</td>\n",
       "      <td>Nicole Holofcener</td>\n",
       "      <td>Nicole Holofcener</td>\n",
       "      <td>Catherine Keener, Amanda Peet, Oliver Platt, R...</td>\n",
       "      <td>...</td>\n",
       "      <td>Sony Pictures Classics</td>\n",
       "      <td>Certified-Fresh</td>\n",
       "      <td>87.00</td>\n",
       "      <td>142.00</td>\n",
       "      <td>Upright</td>\n",
       "      <td>64.00</td>\n",
       "      <td>11574.00</td>\n",
       "      <td>44</td>\n",
       "      <td>123</td>\n",
       "      <td>19</td>\n",
       "    </tr>\n",
       "    <tr>\n",
       "      <th>2</th>\n",
       "      <td>2</td>\n",
       "      <td>m/10</td>\n",
       "      <td>10</td>\n",
       "      <td>A successful, middle-aged Hollywood songwriter...</td>\n",
       "      <td>Blake Edwards' bawdy comedy may not score a pe...</td>\n",
       "      <td>R</td>\n",
       "      <td>Comedy, Romance</td>\n",
       "      <td>Blake Edwards</td>\n",
       "      <td>Blake Edwards</td>\n",
       "      <td>Dudley Moore, Bo Derek, Julie Andrews, Robert ...</td>\n",
       "      <td>...</td>\n",
       "      <td>Waner Bros.</td>\n",
       "      <td>Fresh</td>\n",
       "      <td>67.00</td>\n",
       "      <td>24.00</td>\n",
       "      <td>Spilled</td>\n",
       "      <td>53.00</td>\n",
       "      <td>14684.00</td>\n",
       "      <td>2</td>\n",
       "      <td>16</td>\n",
       "      <td>8</td>\n",
       "    </tr>\n",
       "    <tr>\n",
       "      <th>3</th>\n",
       "      <td>3</td>\n",
       "      <td>m/1000013-12_angry_men</td>\n",
       "      <td>12 Angry Men (Twelve Angry Men)</td>\n",
       "      <td>Following the closing arguments in a murder tr...</td>\n",
       "      <td>Sidney Lumet's feature debut is a superbly wri...</td>\n",
       "      <td>NR</td>\n",
       "      <td>Classics, Drama</td>\n",
       "      <td>Sidney Lumet</td>\n",
       "      <td>Reginald Rose</td>\n",
       "      <td>Martin Balsam, John Fiedler, Lee J. Cobb, E.G....</td>\n",
       "      <td>...</td>\n",
       "      <td>Criterion Collection</td>\n",
       "      <td>Certified-Fresh</td>\n",
       "      <td>100.00</td>\n",
       "      <td>54.00</td>\n",
       "      <td>Upright</td>\n",
       "      <td>97.00</td>\n",
       "      <td>105386.00</td>\n",
       "      <td>6</td>\n",
       "      <td>54</td>\n",
       "      <td>0</td>\n",
       "    </tr>\n",
       "    <tr>\n",
       "      <th>4</th>\n",
       "      <td>4</td>\n",
       "      <td>m/1000079-20000_leagues_under_the_sea</td>\n",
       "      <td>20,000 Leagues Under The Sea</td>\n",
       "      <td>In 1866, Professor Pierre M. Aronnax (Paul Luk...</td>\n",
       "      <td>One of Disney's finest live-action adventures,...</td>\n",
       "      <td>G</td>\n",
       "      <td>Action &amp; Adventure, Drama, Kids &amp; Family</td>\n",
       "      <td>Richard Fleischer</td>\n",
       "      <td>Earl Felton</td>\n",
       "      <td>James Mason, Kirk Douglas, Paul Lukas, Peter L...</td>\n",
       "      <td>...</td>\n",
       "      <td>Disney</td>\n",
       "      <td>Fresh</td>\n",
       "      <td>89.00</td>\n",
       "      <td>27.00</td>\n",
       "      <td>Upright</td>\n",
       "      <td>74.00</td>\n",
       "      <td>68918.00</td>\n",
       "      <td>5</td>\n",
       "      <td>24</td>\n",
       "      <td>3</td>\n",
       "    </tr>\n",
       "    <tr>\n",
       "      <th>...</th>\n",
       "      <td>...</td>\n",
       "      <td>...</td>\n",
       "      <td>...</td>\n",
       "      <td>...</td>\n",
       "      <td>...</td>\n",
       "      <td>...</td>\n",
       "      <td>...</td>\n",
       "      <td>...</td>\n",
       "      <td>...</td>\n",
       "      <td>...</td>\n",
       "      <td>...</td>\n",
       "      <td>...</td>\n",
       "      <td>...</td>\n",
       "      <td>...</td>\n",
       "      <td>...</td>\n",
       "      <td>...</td>\n",
       "      <td>...</td>\n",
       "      <td>...</td>\n",
       "      <td>...</td>\n",
       "      <td>...</td>\n",
       "      <td>...</td>\n",
       "    </tr>\n",
       "    <tr>\n",
       "      <th>17707</th>\n",
       "      <td>17707</td>\n",
       "      <td>m/zoot_suit</td>\n",
       "      <td>Zoot Suit</td>\n",
       "      <td>Mexican-American gangster Henry Reyna (Daniel ...</td>\n",
       "      <td>None</td>\n",
       "      <td>R</td>\n",
       "      <td>Drama, Musical &amp; Performing Arts</td>\n",
       "      <td>Luis Valdez</td>\n",
       "      <td>Luis Valdez</td>\n",
       "      <td>Daniel Valdez, Edward James Olmos, Charles Aid...</td>\n",
       "      <td>...</td>\n",
       "      <td>MCA Universal Home Video</td>\n",
       "      <td>Rotten</td>\n",
       "      <td>56.00</td>\n",
       "      <td>9.00</td>\n",
       "      <td>Upright</td>\n",
       "      <td>74.00</td>\n",
       "      <td>1195.00</td>\n",
       "      <td>2</td>\n",
       "      <td>5</td>\n",
       "      <td>4</td>\n",
       "    </tr>\n",
       "    <tr>\n",
       "      <th>17708</th>\n",
       "      <td>17708</td>\n",
       "      <td>m/zootopia</td>\n",
       "      <td>Zootopia</td>\n",
       "      <td>From the largest elephant to the smallest shre...</td>\n",
       "      <td>The brilliantly well-rounded Zootopia offers a...</td>\n",
       "      <td>PG</td>\n",
       "      <td>Action &amp; Adventure, Animation, Comedy</td>\n",
       "      <td>Byron Howard, Rich Moore, Jared Bush</td>\n",
       "      <td>Jared Bush, Phil Johnston</td>\n",
       "      <td>J.K. Simmons, Kristen Bell, Octavia Spencer, A...</td>\n",
       "      <td>...</td>\n",
       "      <td>Walt Disney Animation Studios</td>\n",
       "      <td>Certified-Fresh</td>\n",
       "      <td>98.00</td>\n",
       "      <td>291.00</td>\n",
       "      <td>Upright</td>\n",
       "      <td>92.00</td>\n",
       "      <td>101511.00</td>\n",
       "      <td>50</td>\n",
       "      <td>285</td>\n",
       "      <td>7</td>\n",
       "    </tr>\n",
       "    <tr>\n",
       "      <th>17709</th>\n",
       "      <td>17709</td>\n",
       "      <td>m/zorba_the_greek</td>\n",
       "      <td>Zorba the Greek</td>\n",
       "      <td>Traveling to inspect an abandoned mine his fat...</td>\n",
       "      <td>None</td>\n",
       "      <td>NR</td>\n",
       "      <td>Action &amp; Adventure, Art House &amp; International,...</td>\n",
       "      <td>None</td>\n",
       "      <td>None</td>\n",
       "      <td>Anthony Quinn, Alan Bates, Irene Papas, Lila K...</td>\n",
       "      <td>...</td>\n",
       "      <td>Fox</td>\n",
       "      <td>Fresh</td>\n",
       "      <td>80.00</td>\n",
       "      <td>10.00</td>\n",
       "      <td>Upright</td>\n",
       "      <td>86.00</td>\n",
       "      <td>7146.00</td>\n",
       "      <td>0</td>\n",
       "      <td>8</td>\n",
       "      <td>2</td>\n",
       "    </tr>\n",
       "    <tr>\n",
       "      <th>17710</th>\n",
       "      <td>17710</td>\n",
       "      <td>m/zulu</td>\n",
       "      <td>Zulu</td>\n",
       "      <td>In 1879, the Zulu nation hands colonial Britis...</td>\n",
       "      <td>Zulu patiently establishes a cast of colorful ...</td>\n",
       "      <td>PG</td>\n",
       "      <td>Classics, Drama</td>\n",
       "      <td>Cy Endfield, Cyril Endfield</td>\n",
       "      <td>Cy Endfield, John Prebble</td>\n",
       "      <td>Stanley Baker, Jack Hawkins, Ulla Jacobsson, J...</td>\n",
       "      <td>...</td>\n",
       "      <td>Paramount Pictures</td>\n",
       "      <td>Fresh</td>\n",
       "      <td>96.00</td>\n",
       "      <td>23.00</td>\n",
       "      <td>Upright</td>\n",
       "      <td>91.00</td>\n",
       "      <td>30193.00</td>\n",
       "      <td>6</td>\n",
       "      <td>22</td>\n",
       "      <td>1</td>\n",
       "    </tr>\n",
       "    <tr>\n",
       "      <th>17711</th>\n",
       "      <td>17711</td>\n",
       "      <td>m/zulu_dawn</td>\n",
       "      <td>Zulu Dawn</td>\n",
       "      <td>Sir Henry Bartle Frere's (John Mills) vastly o...</td>\n",
       "      <td>None</td>\n",
       "      <td>PG</td>\n",
       "      <td>Action &amp; Adventure, Art House &amp; International,...</td>\n",
       "      <td>Douglas Hickox</td>\n",
       "      <td>Cy Endfield, Anthony Storey</td>\n",
       "      <td>Burt Lancaster, Peter O'Toole, Simon Ward, Joh...</td>\n",
       "      <td>...</td>\n",
       "      <td>Tango Entertainment</td>\n",
       "      <td>Rotten</td>\n",
       "      <td>50.00</td>\n",
       "      <td>8.00</td>\n",
       "      <td>Upright</td>\n",
       "      <td>62.00</td>\n",
       "      <td>4469.00</td>\n",
       "      <td>0</td>\n",
       "      <td>4</td>\n",
       "      <td>4</td>\n",
       "    </tr>\n",
       "  </tbody>\n",
       "</table>\n",
       "<p>17712 rows × 23 columns</p>\n",
       "</div>"
      ],
      "text/plain": [
       "         idx                   rotten_tomatoes_link  \\\n",
       "0          0                              m/0814255   \n",
       "1          1                              m/0878835   \n",
       "2          2                                   m/10   \n",
       "3          3                 m/1000013-12_angry_men   \n",
       "4          4  m/1000079-20000_leagues_under_the_sea   \n",
       "...      ...                                    ...   \n",
       "17707  17707                            m/zoot_suit   \n",
       "17708  17708                             m/zootopia   \n",
       "17709  17709                      m/zorba_the_greek   \n",
       "17710  17710                                 m/zulu   \n",
       "17711  17711                            m/zulu_dawn   \n",
       "\n",
       "                                             movie_title  \\\n",
       "0      Percy Jackson & the Olympians: The Lightning T...   \n",
       "1                                            Please Give   \n",
       "2                                                     10   \n",
       "3                        12 Angry Men (Twelve Angry Men)   \n",
       "4                           20,000 Leagues Under The Sea   \n",
       "...                                                  ...   \n",
       "17707                                          Zoot Suit   \n",
       "17708                                           Zootopia   \n",
       "17709                                    Zorba the Greek   \n",
       "17710                                               Zulu   \n",
       "17711                                          Zulu Dawn   \n",
       "\n",
       "                                              movie_info  \\\n",
       "0      Always trouble-prone, the life of teenager Per...   \n",
       "1      Kate (Catherine Keener) and her husband Alex (...   \n",
       "2      A successful, middle-aged Hollywood songwriter...   \n",
       "3      Following the closing arguments in a murder tr...   \n",
       "4      In 1866, Professor Pierre M. Aronnax (Paul Luk...   \n",
       "...                                                  ...   \n",
       "17707  Mexican-American gangster Henry Reyna (Daniel ...   \n",
       "17708  From the largest elephant to the smallest shre...   \n",
       "17709  Traveling to inspect an abandoned mine his fat...   \n",
       "17710  In 1879, the Zulu nation hands colonial Britis...   \n",
       "17711  Sir Henry Bartle Frere's (John Mills) vastly o...   \n",
       "\n",
       "                                       critics_consensus content_rating  \\\n",
       "0      Though it may seem like just another Harry Pot...             PG   \n",
       "1      Nicole Holofcener's newest might seem slight i...              R   \n",
       "2      Blake Edwards' bawdy comedy may not score a pe...              R   \n",
       "3      Sidney Lumet's feature debut is a superbly wri...             NR   \n",
       "4      One of Disney's finest live-action adventures,...              G   \n",
       "...                                                  ...            ...   \n",
       "17707                                               None              R   \n",
       "17708  The brilliantly well-rounded Zootopia offers a...             PG   \n",
       "17709                                               None             NR   \n",
       "17710  Zulu patiently establishes a cast of colorful ...             PG   \n",
       "17711                                               None             PG   \n",
       "\n",
       "                                                  genres  \\\n",
       "0      Action & Adventure, Comedy, Drama, Science Fic...   \n",
       "1                                                 Comedy   \n",
       "2                                        Comedy, Romance   \n",
       "3                                        Classics, Drama   \n",
       "4               Action & Adventure, Drama, Kids & Family   \n",
       "...                                                  ...   \n",
       "17707                   Drama, Musical & Performing Arts   \n",
       "17708              Action & Adventure, Animation, Comedy   \n",
       "17709  Action & Adventure, Art House & International,...   \n",
       "17710                                    Classics, Drama   \n",
       "17711  Action & Adventure, Art House & International,...   \n",
       "\n",
       "                                  directors  \\\n",
       "0                            Chris Columbus   \n",
       "1                         Nicole Holofcener   \n",
       "2                             Blake Edwards   \n",
       "3                              Sidney Lumet   \n",
       "4                         Richard Fleischer   \n",
       "...                                     ...   \n",
       "17707                           Luis Valdez   \n",
       "17708  Byron Howard, Rich Moore, Jared Bush   \n",
       "17709                                  None   \n",
       "17710           Cy Endfield, Cyril Endfield   \n",
       "17711                        Douglas Hickox   \n",
       "\n",
       "                                          authors  \\\n",
       "0      Craig Titley, Chris Columbus, Rick Riordan   \n",
       "1                               Nicole Holofcener   \n",
       "2                                   Blake Edwards   \n",
       "3                                   Reginald Rose   \n",
       "4                                     Earl Felton   \n",
       "...                                           ...   \n",
       "17707                                 Luis Valdez   \n",
       "17708                   Jared Bush, Phil Johnston   \n",
       "17709                                        None   \n",
       "17710                   Cy Endfield, John Prebble   \n",
       "17711                 Cy Endfield, Anthony Storey   \n",
       "\n",
       "                                                  actors  ...  \\\n",
       "0      Logan Lerman, Brandon T. Jackson, Alexandra Da...  ...   \n",
       "1      Catherine Keener, Amanda Peet, Oliver Platt, R...  ...   \n",
       "2      Dudley Moore, Bo Derek, Julie Andrews, Robert ...  ...   \n",
       "3      Martin Balsam, John Fiedler, Lee J. Cobb, E.G....  ...   \n",
       "4      James Mason, Kirk Douglas, Paul Lukas, Peter L...  ...   \n",
       "...                                                  ...  ...   \n",
       "17707  Daniel Valdez, Edward James Olmos, Charles Aid...  ...   \n",
       "17708  J.K. Simmons, Kristen Bell, Octavia Spencer, A...  ...   \n",
       "17709  Anthony Quinn, Alan Bates, Irene Papas, Lila K...  ...   \n",
       "17710  Stanley Baker, Jack Hawkins, Ulla Jacobsson, J...  ...   \n",
       "17711  Burt Lancaster, Peter O'Toole, Simon Ward, Joh...  ...   \n",
       "\n",
       "                  production_company tomatometer_status  tomatometer_rating  \\\n",
       "0                   20th Century Fox             Rotten               49.00   \n",
       "1             Sony Pictures Classics    Certified-Fresh               87.00   \n",
       "2                        Waner Bros.              Fresh               67.00   \n",
       "3               Criterion Collection    Certified-Fresh              100.00   \n",
       "4                             Disney              Fresh               89.00   \n",
       "...                              ...                ...                 ...   \n",
       "17707       MCA Universal Home Video             Rotten               56.00   \n",
       "17708  Walt Disney Animation Studios    Certified-Fresh               98.00   \n",
       "17709                            Fox              Fresh               80.00   \n",
       "17710             Paramount Pictures              Fresh               96.00   \n",
       "17711            Tango Entertainment             Rotten               50.00   \n",
       "\n",
       "      tomatometer_count audience_status  audience_rating  audience_count  \\\n",
       "0                149.00         Spilled            53.00       254421.00   \n",
       "1                142.00         Upright            64.00        11574.00   \n",
       "2                 24.00         Spilled            53.00        14684.00   \n",
       "3                 54.00         Upright            97.00       105386.00   \n",
       "4                 27.00         Upright            74.00        68918.00   \n",
       "...                 ...             ...              ...             ...   \n",
       "17707              9.00         Upright            74.00         1195.00   \n",
       "17708            291.00         Upright            92.00       101511.00   \n",
       "17709             10.00         Upright            86.00         7146.00   \n",
       "17710             23.00         Upright            91.00        30193.00   \n",
       "17711              8.00         Upright            62.00         4469.00   \n",
       "\n",
       "      tomatometer_top_critics_count  tomatometer_fresh_critics_count  \\\n",
       "0                                43                               73   \n",
       "1                                44                              123   \n",
       "2                                 2                               16   \n",
       "3                                 6                               54   \n",
       "4                                 5                               24   \n",
       "...                             ...                              ...   \n",
       "17707                             2                                5   \n",
       "17708                            50                              285   \n",
       "17709                             0                                8   \n",
       "17710                             6                               22   \n",
       "17711                             0                                4   \n",
       "\n",
       "       tomatometer_rotten_critics_count  \n",
       "0                                    76  \n",
       "1                                    19  \n",
       "2                                     8  \n",
       "3                                     0  \n",
       "4                                     3  \n",
       "...                                 ...  \n",
       "17707                                 4  \n",
       "17708                                 7  \n",
       "17709                                 2  \n",
       "17710                                 1  \n",
       "17711                                 4  \n",
       "\n",
       "[17712 rows x 23 columns]"
      ]
     },
     "execution_count": 84,
     "metadata": {},
     "output_type": "execute_result"
    }
   ],
   "source": [
    "conn = sqlite3.connect('data/movies.db')\n",
    "cur = conn.cursor()\n",
    "cur.execute(\"\"\"SELECT * FROM rotten_tomatoes_movies\"\"\")\n",
    "\n",
    "rottenTomatoesMovies = pd.DataFrame(cur.fetchall())\n",
    "rottenTomatoesMovies.columns = [x[0] for x in cur.description]\n",
    "rottenTomatoesMovies"
   ]
  },
  {
   "cell_type": "markdown",
   "metadata": {},
   "source": [
    "Explore the data in `bom_movie_gross`."
   ]
  },
  {
   "cell_type": "code",
   "execution_count": 85,
   "metadata": {},
   "outputs": [
    {
     "data": {
      "text/html": [
       "<div>\n",
       "<style scoped>\n",
       "    .dataframe tbody tr th:only-of-type {\n",
       "        vertical-align: middle;\n",
       "    }\n",
       "\n",
       "    .dataframe tbody tr th {\n",
       "        vertical-align: top;\n",
       "    }\n",
       "\n",
       "    .dataframe thead th {\n",
       "        text-align: right;\n",
       "    }\n",
       "</style>\n",
       "<table border=\"1\" class=\"dataframe\">\n",
       "  <thead>\n",
       "    <tr style=\"text-align: right;\">\n",
       "      <th></th>\n",
       "      <th>idx</th>\n",
       "      <th>title</th>\n",
       "      <th>studio</th>\n",
       "      <th>domestic_gross</th>\n",
       "      <th>foreign_gross</th>\n",
       "      <th>year</th>\n",
       "    </tr>\n",
       "  </thead>\n",
       "  <tbody>\n",
       "    <tr>\n",
       "      <th>0</th>\n",
       "      <td>0</td>\n",
       "      <td>Toy Story 3</td>\n",
       "      <td>BV</td>\n",
       "      <td>415000000.00</td>\n",
       "      <td>652000000</td>\n",
       "      <td>2010</td>\n",
       "    </tr>\n",
       "    <tr>\n",
       "      <th>1</th>\n",
       "      <td>1</td>\n",
       "      <td>Alice in Wonderland (2010)</td>\n",
       "      <td>BV</td>\n",
       "      <td>334200000.00</td>\n",
       "      <td>691300000</td>\n",
       "      <td>2010</td>\n",
       "    </tr>\n",
       "    <tr>\n",
       "      <th>2</th>\n",
       "      <td>2</td>\n",
       "      <td>Harry Potter and the Deathly Hallows Part 1</td>\n",
       "      <td>WB</td>\n",
       "      <td>296000000.00</td>\n",
       "      <td>664300000</td>\n",
       "      <td>2010</td>\n",
       "    </tr>\n",
       "    <tr>\n",
       "      <th>3</th>\n",
       "      <td>3</td>\n",
       "      <td>Inception</td>\n",
       "      <td>WB</td>\n",
       "      <td>292600000.00</td>\n",
       "      <td>535700000</td>\n",
       "      <td>2010</td>\n",
       "    </tr>\n",
       "    <tr>\n",
       "      <th>4</th>\n",
       "      <td>4</td>\n",
       "      <td>Shrek Forever After</td>\n",
       "      <td>P/DW</td>\n",
       "      <td>238700000.00</td>\n",
       "      <td>513900000</td>\n",
       "      <td>2010</td>\n",
       "    </tr>\n",
       "    <tr>\n",
       "      <th>...</th>\n",
       "      <td>...</td>\n",
       "      <td>...</td>\n",
       "      <td>...</td>\n",
       "      <td>...</td>\n",
       "      <td>...</td>\n",
       "      <td>...</td>\n",
       "    </tr>\n",
       "    <tr>\n",
       "      <th>3382</th>\n",
       "      <td>3382</td>\n",
       "      <td>The Quake</td>\n",
       "      <td>Magn.</td>\n",
       "      <td>6200.00</td>\n",
       "      <td>None</td>\n",
       "      <td>2018</td>\n",
       "    </tr>\n",
       "    <tr>\n",
       "      <th>3383</th>\n",
       "      <td>3383</td>\n",
       "      <td>Edward II (2018 re-release)</td>\n",
       "      <td>FM</td>\n",
       "      <td>4800.00</td>\n",
       "      <td>None</td>\n",
       "      <td>2018</td>\n",
       "    </tr>\n",
       "    <tr>\n",
       "      <th>3384</th>\n",
       "      <td>3384</td>\n",
       "      <td>El Pacto</td>\n",
       "      <td>Sony</td>\n",
       "      <td>2500.00</td>\n",
       "      <td>None</td>\n",
       "      <td>2018</td>\n",
       "    </tr>\n",
       "    <tr>\n",
       "      <th>3385</th>\n",
       "      <td>3385</td>\n",
       "      <td>The Swan</td>\n",
       "      <td>Synergetic</td>\n",
       "      <td>2400.00</td>\n",
       "      <td>None</td>\n",
       "      <td>2018</td>\n",
       "    </tr>\n",
       "    <tr>\n",
       "      <th>3386</th>\n",
       "      <td>3386</td>\n",
       "      <td>An Actor Prepares</td>\n",
       "      <td>Grav.</td>\n",
       "      <td>1700.00</td>\n",
       "      <td>None</td>\n",
       "      <td>2018</td>\n",
       "    </tr>\n",
       "  </tbody>\n",
       "</table>\n",
       "<p>3387 rows × 6 columns</p>\n",
       "</div>"
      ],
      "text/plain": [
       "       idx                                        title      studio  \\\n",
       "0        0                                  Toy Story 3          BV   \n",
       "1        1                   Alice in Wonderland (2010)          BV   \n",
       "2        2  Harry Potter and the Deathly Hallows Part 1          WB   \n",
       "3        3                                    Inception          WB   \n",
       "4        4                          Shrek Forever After        P/DW   \n",
       "...    ...                                          ...         ...   \n",
       "3382  3382                                    The Quake       Magn.   \n",
       "3383  3383                  Edward II (2018 re-release)          FM   \n",
       "3384  3384                                     El Pacto        Sony   \n",
       "3385  3385                                     The Swan  Synergetic   \n",
       "3386  3386                            An Actor Prepares       Grav.   \n",
       "\n",
       "      domestic_gross foreign_gross  year  \n",
       "0       415000000.00     652000000  2010  \n",
       "1       334200000.00     691300000  2010  \n",
       "2       296000000.00     664300000  2010  \n",
       "3       292600000.00     535700000  2010  \n",
       "4       238700000.00     513900000  2010  \n",
       "...              ...           ...   ...  \n",
       "3382         6200.00          None  2018  \n",
       "3383         4800.00          None  2018  \n",
       "3384         2500.00          None  2018  \n",
       "3385         2400.00          None  2018  \n",
       "3386         1700.00          None  2018  \n",
       "\n",
       "[3387 rows x 6 columns]"
      ]
     },
     "execution_count": 85,
     "metadata": {},
     "output_type": "execute_result"
    }
   ],
   "source": [
    "cur.execute(\"\"\"SELECT * FROM bom_movie_gross\"\"\")\n",
    "\n",
    "df = pd.DataFrame(cur.fetchall())\n",
    "df.columns = [x[0] for x in cur.description]\n",
    "df"
   ]
  },
  {
   "cell_type": "markdown",
   "metadata": {},
   "source": [
    "## What production company produced the most movies in the decade? ## "
   ]
  },
  {
   "cell_type": "markdown",
   "metadata": {},
   "source": [
    "Select the name of the `Production Company` and the ` Count of Movies` from the table `rotten_tomatoes_movies` and ordering in descending order to view which `Production Comapny` takes on the most movie projects."
   ]
  },
  {
   "cell_type": "code",
   "execution_count": 86,
   "metadata": {},
   "outputs": [
    {
     "data": {
      "text/html": [
       "<div>\n",
       "<style scoped>\n",
       "    .dataframe tbody tr th:only-of-type {\n",
       "        vertical-align: middle;\n",
       "    }\n",
       "\n",
       "    .dataframe tbody tr th {\n",
       "        vertical-align: top;\n",
       "    }\n",
       "\n",
       "    .dataframe thead th {\n",
       "        text-align: right;\n",
       "    }\n",
       "</style>\n",
       "<table border=\"1\" class=\"dataframe\">\n",
       "  <thead>\n",
       "    <tr style=\"text-align: right;\">\n",
       "      <th></th>\n",
       "      <th>production_company</th>\n",
       "      <th>sum_of_movies</th>\n",
       "    </tr>\n",
       "  </thead>\n",
       "  <tbody>\n",
       "    <tr>\n",
       "      <th>0</th>\n",
       "      <td>Warner Bros. Pictures</td>\n",
       "      <td>109</td>\n",
       "    </tr>\n",
       "    <tr>\n",
       "      <th>1</th>\n",
       "      <td>20th Century Fox</td>\n",
       "      <td>109</td>\n",
       "    </tr>\n",
       "    <tr>\n",
       "      <th>2</th>\n",
       "      <td>Universal Pictures</td>\n",
       "      <td>105</td>\n",
       "    </tr>\n",
       "    <tr>\n",
       "      <th>3</th>\n",
       "      <td>IFC Films</td>\n",
       "      <td>91</td>\n",
       "    </tr>\n",
       "    <tr>\n",
       "      <th>4</th>\n",
       "      <td>Sony Pictures</td>\n",
       "      <td>76</td>\n",
       "    </tr>\n",
       "  </tbody>\n",
       "</table>\n",
       "</div>"
      ],
      "text/plain": [
       "      production_company  sum_of_movies\n",
       "0  Warner Bros. Pictures            109\n",
       "1       20th Century Fox            109\n",
       "2     Universal Pictures            105\n",
       "3              IFC Films             91\n",
       "4          Sony Pictures             76"
      ]
     },
     "execution_count": 86,
     "metadata": {},
     "output_type": "execute_result"
    }
   ],
   "source": [
    "cur.execute(\"\"\"SELECT production_company, count(movie_title) AS sum_of_movies FROM rotten_tomatoes_movies\n",
    "               JOIN bom_movie_gross\n",
    "               ON rotten_tomatoes_movies.movie_title = bom_movie_gross.title\n",
    "               WHERE year >= 2010\n",
    "               GROUP BY production_company\n",
    "               ORDER BY sum_of_movies DESC\n",
    "               LIMIT 5\"\"\")\n",
    "\n",
    "df = pd.DataFrame(cur.fetchall())\n",
    "df.columns = [x[0] for x in cur.description]\n",
    "df.head()"
   ]
  },
  {
   "cell_type": "markdown",
   "metadata": {},
   "source": [
    "It's time to visualize the above data in the DataFrame. To make it more presentable, a color scheme has been chosen to make it more visually appealing."
   ]
  },
  {
   "cell_type": "code",
   "execution_count": 87,
   "metadata": {},
   "outputs": [
    {
     "data": {
      "image/png": "[encoded data removed]",
      "text/plain": [
       "<Figure size 432x288 with 1 Axes>"
      ]
     },
     "metadata": {
      "needs_background": "light"
     },
     "output_type": "display_data"
    }
   ],
   "source": [
    "red_color_palette = ['salmon','tomato','darksalmon','rosybrown',\n",
    "                     'indianred','brown','firebrick','darkred','maroon','red']\n",
    "\n",
    "plt.barh(df.production_company, df['sum_of_movies'], edgecolor = 'black', color = red_color_palette)\n",
    "\n",
    "plt.title('# of movies produced by studio\\n from 2010 to present', fontname='arial', size=20)\n",
    "plt.xlabel('# of movies produced', size=15, fontname='arial')\n",
    "plt.ylabel('Studios', size=15, fontname ='arial')\n",
    "plt.rcParams['axes.facecolor'] = 'seashell'\n",
    "plt.savefig('num_of_movies_by_prod_com_bar.png')\n",
    "plt.show()"
   ]
  },
  {
   "cell_type": "markdown",
   "metadata": {},
   "source": [
    "# What studio generated the most income? #"
   ]
  },
  {
   "cell_type": "markdown",
   "metadata": {},
   "source": [
    "The code below shows the total gross revenue domestically that each studio has generated in total starting from the year 2010 forward.\n",
    "\n",
    "Note that the `pd.set_option('display.float_format', lambda x: '%.3f' % x)` is used to remove the scientific notation that pandas would normally format the large numbers by."
   ]
  },
  {
   "cell_type": "code",
   "execution_count": 88,
   "metadata": {},
   "outputs": [
    {
     "data": {
      "text/html": [
       "<div>\n",
       "<style scoped>\n",
       "    .dataframe tbody tr th:only-of-type {\n",
       "        vertical-align: middle;\n",
       "    }\n",
       "\n",
       "    .dataframe tbody tr th {\n",
       "        vertical-align: top;\n",
       "    }\n",
       "\n",
       "    .dataframe thead th {\n",
       "        text-align: right;\n",
       "    }\n",
       "</style>\n",
       "<table border=\"1\" class=\"dataframe\">\n",
       "  <thead>\n",
       "    <tr style=\"text-align: right;\">\n",
       "      <th></th>\n",
       "      <th>studio</th>\n",
       "      <th>SUM</th>\n",
       "      <th>AVERAGE</th>\n",
       "    </tr>\n",
       "  </thead>\n",
       "  <tbody>\n",
       "    <tr>\n",
       "      <th>0</th>\n",
       "      <td>BV</td>\n",
       "      <td>15534080700.00</td>\n",
       "      <td>189440008.54</td>\n",
       "    </tr>\n",
       "    <tr>\n",
       "      <th>1</th>\n",
       "      <td>Uni.</td>\n",
       "      <td>12097022000.00</td>\n",
       "      <td>90276283.58</td>\n",
       "    </tr>\n",
       "    <tr>\n",
       "      <th>2</th>\n",
       "      <td>WB</td>\n",
       "      <td>9871000000.00</td>\n",
       "      <td>91398148.15</td>\n",
       "    </tr>\n",
       "    <tr>\n",
       "      <th>3</th>\n",
       "      <td>Fox</td>\n",
       "      <td>9429699998.00</td>\n",
       "      <td>83448672.55</td>\n",
       "    </tr>\n",
       "    <tr>\n",
       "      <th>4</th>\n",
       "      <td>Sony</td>\n",
       "      <td>7065690998.00</td>\n",
       "      <td>87230753.06</td>\n",
       "    </tr>\n",
       "  </tbody>\n",
       "</table>\n",
       "</div>"
      ],
      "text/plain": [
       "  studio            SUM      AVERAGE\n",
       "0     BV 15534080700.00 189440008.54\n",
       "1   Uni. 12097022000.00  90276283.58\n",
       "2     WB  9871000000.00  91398148.15\n",
       "3    Fox  9429699998.00  83448672.55\n",
       "4   Sony  7065690998.00  87230753.06"
      ]
     },
     "execution_count": 88,
     "metadata": {},
     "output_type": "execute_result"
    }
   ],
   "source": [
    "cur.execute(\"\"\"SELECT studio, sum(domestic_gross) AS SUM, avg(domestic_gross) AS AVERAGE FROM bom_movie_gross\n",
    "               JOIN rotten_tomatoes_movies\n",
    "               ON bom_movie_gross.title = rotten_tomatoes_movies.movie_title\n",
    "               WHERE year >= 2010\n",
    "               GROUP BY studio\n",
    "               ORDER BY SUM DESC\n",
    "               LIMIT 10;\"\"\")\n",
    "\n",
    "df = pd.DataFrame(cur.fetchall())\n",
    "df.columns = [x[0] for x in cur.description]\n",
    "pd.set_option('display.float_format', lambda x: '%.2f' % x)\n",
    "df.head()"
   ]
  },
  {
   "cell_type": "markdown",
   "metadata": {},
   "source": [
    "Now lets plot it in a bargraph to better compare the numbers earned in average and in total for each studio. Passing `plt.gcf().axes[0].yaxis.get_major_formatter().set_scientific(False)` allows the passing of the large numbers."
   ]
  },
  {
   "cell_type": "code",
   "execution_count": 89,
   "metadata": {
    "scrolled": false
   },
   "outputs": [
    {
     "data": {
      "image/png": "[encoded data removed]",
      "text/plain": [
       "<Figure size 432x288 with 1 Axes>"
      ]
     },
     "metadata": {
      "needs_background": "light"
     },
     "output_type": "display_data"
    }
   ],
   "source": [
    "plt.bar(df.studio, df['SUM'], edgecolor = 'black')\n",
    "\n",
    "y_pos = np.arange(len(df.studio))\n",
    "height = df['SUM']\n",
    "plt.xlabel('Studio Name', size=15, fontname = \"arial\")\n",
    "plt.ylabel('Sum of earnings', size = 15, fontname = 'arial')\n",
    "plt.title('Earnings of movie Studios\\n starting in the year 2010', size=20)\n",
    "plt.gcf().axes[0].yaxis.get_major_formatter().set_scientific(False)\n",
    "\n",
    "\n",
    "plt.bar(y_pos, height, color= red_color_palette)\n",
    "plt.savefig('Top_Ten_Studio_Domestic_Gross.png')\n",
    "plt.show()"
   ]
  },
  {
   "cell_type": "markdown",
   "metadata": {},
   "source": [
    "# Find the directors that averaged the most gross #"
   ]
  },
  {
   "cell_type": "markdown",
   "metadata": {},
   "source": [
    "Use the table `rotten_tomatoes_movies` and `bom_movie_gross` and assgined to DataFrame **df_director**, apply some data cleaning and select the directors that averaged the most gross domestically."
   ]
  },
  {
   "cell_type": "code",
   "execution_count": 90,
   "metadata": {},
   "outputs": [
    {
     "data": {
      "text/html": [
       "<div>\n",
       "<style scoped>\n",
       "    .dataframe tbody tr th:only-of-type {\n",
       "        vertical-align: middle;\n",
       "    }\n",
       "\n",
       "    .dataframe tbody tr th {\n",
       "        vertical-align: top;\n",
       "    }\n",
       "\n",
       "    .dataframe thead th {\n",
       "        text-align: right;\n",
       "    }\n",
       "</style>\n",
       "<table border=\"1\" class=\"dataframe\">\n",
       "  <thead>\n",
       "    <tr style=\"text-align: right;\">\n",
       "      <th></th>\n",
       "      <th>directors</th>\n",
       "      <th>total_movies</th>\n",
       "      <th>average_gross_by_director</th>\n",
       "      <th>genres</th>\n",
       "      <th>max_rating</th>\n",
       "    </tr>\n",
       "  </thead>\n",
       "  <tbody>\n",
       "    <tr>\n",
       "      <th>0</th>\n",
       "      <td>Anthony Russo</td>\n",
       "      <td>2</td>\n",
       "      <td>543450000.00</td>\n",
       "      <td>Action &amp; Adventure, Science Fiction &amp; Fantasy</td>\n",
       "      <td>91.00</td>\n",
       "    </tr>\n",
       "    <tr>\n",
       "      <th>1</th>\n",
       "      <td>Andrew Stanton, Angus MacLane</td>\n",
       "      <td>1</td>\n",
       "      <td>486300000.00</td>\n",
       "      <td>Animation</td>\n",
       "      <td>94.00</td>\n",
       "    </tr>\n",
       "    <tr>\n",
       "      <th>2</th>\n",
       "      <td>Joss Whedon</td>\n",
       "      <td>1</td>\n",
       "      <td>459000000.00</td>\n",
       "      <td>Action &amp; Adventure, Science Fiction &amp; Fantasy</td>\n",
       "      <td>76.00</td>\n",
       "    </tr>\n",
       "    <tr>\n",
       "      <th>3</th>\n",
       "      <td>Lee Unkrich</td>\n",
       "      <td>1</td>\n",
       "      <td>415000000.00</td>\n",
       "      <td>Animation, Comedy, Kids &amp; Family</td>\n",
       "      <td>98.00</td>\n",
       "    </tr>\n",
       "    <tr>\n",
       "      <th>4</th>\n",
       "      <td>Patty Jenkins</td>\n",
       "      <td>1</td>\n",
       "      <td>412600000.00</td>\n",
       "      <td>Action &amp; Adventure, Drama, Science Fiction &amp; F...</td>\n",
       "      <td>93.00</td>\n",
       "    </tr>\n",
       "    <tr>\n",
       "      <th>...</th>\n",
       "      <td>...</td>\n",
       "      <td>...</td>\n",
       "      <td>...</td>\n",
       "      <td>...</td>\n",
       "      <td>...</td>\n",
       "    </tr>\n",
       "    <tr>\n",
       "      <th>1503</th>\n",
       "      <td>Ian Fitzgibbon</td>\n",
       "      <td>1</td>\n",
       "      <td>800.00</td>\n",
       "      <td>Action &amp; Adventure, Comedy, Drama, Mystery &amp; S...</td>\n",
       "      <td>56.00</td>\n",
       "    </tr>\n",
       "    <tr>\n",
       "      <th>1504</th>\n",
       "      <td>Alan Black</td>\n",
       "      <td>1</td>\n",
       "      <td>800.00</td>\n",
       "      <td>Action &amp; Adventure</td>\n",
       "      <td>59.00</td>\n",
       "    </tr>\n",
       "    <tr>\n",
       "      <th>1505</th>\n",
       "      <td>Petter Naess</td>\n",
       "      <td>1</td>\n",
       "      <td>700.00</td>\n",
       "      <td>Action &amp; Adventure, Art House &amp; International,...</td>\n",
       "      <td>45.00</td>\n",
       "    </tr>\n",
       "    <tr>\n",
       "      <th>1506</th>\n",
       "      <td>Franck Khalfoun</td>\n",
       "      <td>1</td>\n",
       "      <td>700.00</td>\n",
       "      <td>Horror, Mystery &amp; Suspense</td>\n",
       "      <td>30.00</td>\n",
       "    </tr>\n",
       "    <tr>\n",
       "      <th>1507</th>\n",
       "      <td>Paul Currie</td>\n",
       "      <td>1</td>\n",
       "      <td>400.00</td>\n",
       "      <td>Drama, Mystery &amp; Suspense</td>\n",
       "      <td>22.00</td>\n",
       "    </tr>\n",
       "  </tbody>\n",
       "</table>\n",
       "<p>1507 rows × 5 columns</p>\n",
       "</div>"
      ],
      "text/plain": [
       "                          directors  total_movies  average_gross_by_director  \\\n",
       "0                     Anthony Russo             2               543450000.00   \n",
       "1     Andrew Stanton, Angus MacLane             1               486300000.00   \n",
       "2                       Joss Whedon             1               459000000.00   \n",
       "3                       Lee Unkrich             1               415000000.00   \n",
       "4                     Patty Jenkins             1               412600000.00   \n",
       "...                             ...           ...                        ...   \n",
       "1503                 Ian Fitzgibbon             1                     800.00   \n",
       "1504                     Alan Black             1                     800.00   \n",
       "1505                   Petter Naess             1                     700.00   \n",
       "1506                Franck Khalfoun             1                     700.00   \n",
       "1507                    Paul Currie             1                     400.00   \n",
       "\n",
       "                                                 genres  max_rating  \n",
       "0         Action & Adventure, Science Fiction & Fantasy       91.00  \n",
       "1                                             Animation       94.00  \n",
       "2         Action & Adventure, Science Fiction & Fantasy       76.00  \n",
       "3                      Animation, Comedy, Kids & Family       98.00  \n",
       "4     Action & Adventure, Drama, Science Fiction & F...       93.00  \n",
       "...                                                 ...         ...  \n",
       "1503  Action & Adventure, Comedy, Drama, Mystery & S...       56.00  \n",
       "1504                                 Action & Adventure       59.00  \n",
       "1505  Action & Adventure, Art House & International,...       45.00  \n",
       "1506                         Horror, Mystery & Suspense       30.00  \n",
       "1507                          Drama, Mystery & Suspense       22.00  \n",
       "\n",
       "[1507 rows x 5 columns]"
      ]
     },
     "execution_count": 90,
     "metadata": {},
     "output_type": "execute_result"
    }
   ],
   "source": [
    "cur.execute(\"\"\"SELECT directors, count(directors) AS total_movies, \n",
    "               avg(domestic_gross) AS average_gross_by_director, genres, max(tomatometer_rating) AS max_rating\n",
    "               FROM rotten_tomatoes_movies\n",
    "               JOIN bom_movie_gross\n",
    "               ON rotten_tomatoes_movies.movie_title = bom_movie_gross.title\n",
    "               WHERE year >= 2010\n",
    "               GROUP BY directors\n",
    "               ORDER BY average_gross_by_director DESC\"\"\")\n",
    "\n",
    "df_director = pd.DataFrame(cur.fetchall())\n",
    "df_director.columns = [x[0] for x in cur.description]\n",
    "\n",
    "df_director = df_director.dropna()\n",
    "df_director"
   ]
  },
  {
   "cell_type": "markdown",
   "metadata": {},
   "source": [
    "It is time to visualize it. To keep it in theme, we will use the same color palette."
   ]
  },
  {
   "cell_type": "code",
   "execution_count": 91,
   "metadata": {
    "scrolled": true
   },
   "outputs": [
    {
     "data": {
      "image/png": "[encoded data removed]",
      "text/plain": [
       "<Figure size 432x288 with 1 Axes>"
      ]
     },
     "metadata": {
      "needs_background": "light"
     },
     "output_type": "display_data"
    }
   ],
   "source": [
    "plt.barh(df_director.directors[:5], df_director['average_gross_by_director'][:5], \n",
    "         color=red_color_palette, edgecolor='black')\n",
    "\n",
    "plt.yticks(size = 10, fontname='arial')\n",
    "plt.xlabel('Average domestic gross\\n to the nearest 100th million', size = 15, fontname='arial')\n",
    "plt.xticks(size = 10, fontname='arial')\n",
    "plt.ylabel('Directors', size = 15, fontname = 'arial')\n",
    "plt.title('Average earnings per director', size=20, fontname = 'arial')\n",
    "plt.savefig(\"earnings_per_director_bar.png\")\n",
    "plt.show()"
   ]
  },
  {
   "cell_type": "markdown",
   "metadata": {},
   "source": [
    "Now let's see some correlations between our data. We will use it to see if a certain movie metric has a significant impact in the earnings that the movie gains while in the boxoffice domestically. \n",
    "We will do this by defining the function `check_correlation` that will check the correlation coefficient of the gross and a desired metric and will return a statement that indicates if there is a correlation or not."
   ]
  },
  {
   "cell_type": "code",
   "execution_count": 92,
   "metadata": {},
   "outputs": [],
   "source": [
    "def check_correlation(x,y):\n",
    "    correlation = x.corr(y)\n",
    "    if correlation == 1:\n",
    "        return 'There is a strong positive correlation'\n",
    "    elif correlation > .2:\n",
    "        return 'There is a positive correlation'\n",
    "    elif correlation <= .2:\n",
    "        return 'There is a weak positive correlation'\n",
    "    elif correlation == 0:\n",
    "        return \"There is no correlation\"\n",
    "    else:\n",
    "        return 'There is a negative correlation'"
   ]
  },
  {
   "cell_type": "markdown",
   "metadata": {},
   "source": [
    "Now, we will visualize it and use our defined function to check for correlation."
   ]
  },
  {
   "cell_type": "code",
   "execution_count": 93,
   "metadata": {
    "scrolled": true
   },
   "outputs": [
    {
     "data": {
      "image/png": "[encoded data removed]",
      "text/plain": [
       "<Figure size 432x288 with 1 Axes>"
      ]
     },
     "metadata": {
      "needs_background": "light"
     },
     "output_type": "display_data"
    },
    {
     "data": {
      "text/plain": [
       "'There is a weak positive correlation'"
      ]
     },
     "execution_count": 93,
     "metadata": {},
     "output_type": "execute_result"
    }
   ],
   "source": [
    "averageRating = df_director.max_rating\n",
    "averageGross = df_director.average_gross_by_director\n",
    "\n",
    "plt.scatter(averageGross,averageRating, edgecolors='black', color = 'salmon')\n",
    "plt.ylabel('Rating', size=15, fontname ='arial')\n",
    "plt.xlabel('Gross in hundreds of millions', size=15, fontname='arial')\n",
    "plt.title('Correlation between the\\n rating and gross of a film', size= 20, fontname ='arial')\n",
    "plt.savefig('correlation_rating_gross.png')\n",
    "plt.show()\n",
    "\n",
    "check_correlation(averageRating, averageGross)"
   ]
  },
  {
   "cell_type": "markdown",
   "metadata": {
    "scrolled": true
   },
   "source": [
    "There appears to be a \"weak positive correlation\". Because the correlation coefficient appears to be so low, it is likely that the rating of a movie does not have a vital role in the gross of a movie."
   ]
  },
  {
   "cell_type": "markdown",
   "metadata": {},
   "source": [
    "## Correlation between `Runtime` and `Domestic Gross` ##"
   ]
  },
  {
   "cell_type": "markdown",
   "metadata": {},
   "source": [
    "Now we want to see the correlation between Runtime and Domestic Gross. For that we will select the `movie_title` data, its `runtime`, and its `domestic_gross`.\n",
    "Let's create `df_runtime` that houses the data that we are looking for."
   ]
  },
  {
   "cell_type": "code",
   "execution_count": 94,
   "metadata": {},
   "outputs": [
    {
     "data": {
      "text/html": [
       "<div>\n",
       "<style scoped>\n",
       "    .dataframe tbody tr th:only-of-type {\n",
       "        vertical-align: middle;\n",
       "    }\n",
       "\n",
       "    .dataframe tbody tr th {\n",
       "        vertical-align: top;\n",
       "    }\n",
       "\n",
       "    .dataframe thead th {\n",
       "        text-align: right;\n",
       "    }\n",
       "</style>\n",
       "<table border=\"1\" class=\"dataframe\">\n",
       "  <thead>\n",
       "    <tr style=\"text-align: right;\">\n",
       "      <th></th>\n",
       "      <th>movie_title</th>\n",
       "      <th>runtime</th>\n",
       "      <th>domestic_gross</th>\n",
       "    </tr>\n",
       "  </thead>\n",
       "  <tbody>\n",
       "    <tr>\n",
       "      <th>0</th>\n",
       "      <td>Black Panther</td>\n",
       "      <td>134.00</td>\n",
       "      <td>700100000.00</td>\n",
       "    </tr>\n",
       "    <tr>\n",
       "      <th>1</th>\n",
       "      <td>Avengers: Infinity War</td>\n",
       "      <td>149.00</td>\n",
       "      <td>678800000.00</td>\n",
       "    </tr>\n",
       "    <tr>\n",
       "      <th>2</th>\n",
       "      <td>Jurassic World</td>\n",
       "      <td>124.00</td>\n",
       "      <td>652300000.00</td>\n",
       "    </tr>\n",
       "    <tr>\n",
       "      <th>3</th>\n",
       "      <td>Marvel's The Avengers</td>\n",
       "      <td>143.00</td>\n",
       "      <td>623400000.00</td>\n",
       "    </tr>\n",
       "    <tr>\n",
       "      <th>4</th>\n",
       "      <td>Star Wars: The Last Jedi</td>\n",
       "      <td>152.00</td>\n",
       "      <td>620200000.00</td>\n",
       "    </tr>\n",
       "  </tbody>\n",
       "</table>\n",
       "</div>"
      ],
      "text/plain": [
       "                movie_title  runtime  domestic_gross\n",
       "0             Black Panther   134.00    700100000.00\n",
       "1    Avengers: Infinity War   149.00    678800000.00\n",
       "2            Jurassic World   124.00    652300000.00\n",
       "3     Marvel's The Avengers   143.00    623400000.00\n",
       "4  Star Wars: The Last Jedi   152.00    620200000.00"
      ]
     },
     "execution_count": 94,
     "metadata": {},
     "output_type": "execute_result"
    }
   ],
   "source": [
    "cur.execute(\"\"\"SELECT movie_title, runtime, domestic_gross FROM rotten_tomatoes_movies\n",
    "               JOIN bom_movie_gross\n",
    "               ON rotten_tomatoes_movies.movie_title = bom_movie_gross.title\n",
    "               WHERE year >= 2010\n",
    "               ORDER BY domestic_gross DESC\"\"\")\n",
    "df_runtime = pd.DataFrame(cur.fetchall())\n",
    "df_runtime.columns = [x[0] for x in cur.description]\n",
    "df_runtime.head()"
   ]
  },
  {
   "cell_type": "code",
   "execution_count": 95,
   "metadata": {},
   "outputs": [
    {
     "data": {
      "text/plain": [
       "(136.3, 165.0, 137.5, 136.3, 103.0)"
      ]
     },
     "execution_count": 95,
     "metadata": {},
     "output_type": "execute_result"
    }
   ],
   "source": [
    "def ret_metrics(x):\n",
    "    return df_runtime[x][:10].mean(), df_runtime[x][:10].max(), df_runtime[x][:10].median(), df_runtime[x][:10].mean(), df_runtime[x][:10].min()\n",
    "\n",
    "ret_metrics('runtime')"
   ]
  },
  {
   "cell_type": "markdown",
   "metadata": {},
   "source": [
    "Time to visualize it, keeing it in theme!"
   ]
  },
  {
   "cell_type": "code",
   "execution_count": 96,
   "metadata": {},
   "outputs": [
    {
     "data": {
      "image/png": "[encoded data removed]",
      "text/plain": [
       "<Figure size 432x288 with 1 Axes>"
      ]
     },
     "metadata": {
      "needs_background": "light"
     },
     "output_type": "display_data"
    },
    {
     "data": {
      "text/plain": [
       "'There is a positive correlation'"
      ]
     },
     "execution_count": 96,
     "metadata": {},
     "output_type": "execute_result"
    }
   ],
   "source": [
    "runtime = df_runtime['runtime']\n",
    "grossByRuntime = df_runtime['domestic_gross']\n",
    "\n",
    "plt.scatter(runtime, grossByRuntime, edgecolor='black', color = 'salmon')\n",
    "plt.title('Correlation between movie\\n runtime and domestic gross', size= 20, fontname='arial')\n",
    "plt.xlabel('Runtime in minutes', size= 15, fontname='arial')\n",
    "plt.ylabel('Domestic Gross\\n in hundreds of millions', size = 15, fontname = 'arial')\n",
    "plt.savefig('Correlation_runtime_gross.png')\n",
    "plt.show()\n",
    "check_correlation(runtime,grossByRuntime)"
   ]
  },
  {
   "cell_type": "markdown",
   "metadata": {},
   "source": [
    "It appears that there is a positive correlation between Domestic Gross and its Runtime, with the `average` runtime being of 136 minutes, the `minimum` runtime being 103 minutes, and the `max` runtime being of 165 minutes."
   ]
  },
  {
   "cell_type": "markdown",
   "metadata": {},
   "source": [
    "## What genre generated the most gross ##"
   ]
  },
  {
   "cell_type": "markdown",
   "metadata": {},
   "source": [
    "Let's create our DataFrame `df_genres` that calls for the genres and the sum of the domestic gross."
   ]
  },
  {
   "cell_type": "code",
   "execution_count": 97,
   "metadata": {
    "scrolled": true
   },
   "outputs": [
    {
     "data": {
      "text/html": [
       "<div>\n",
       "<style scoped>\n",
       "    .dataframe tbody tr th:only-of-type {\n",
       "        vertical-align: middle;\n",
       "    }\n",
       "\n",
       "    .dataframe tbody tr th {\n",
       "        vertical-align: top;\n",
       "    }\n",
       "\n",
       "    .dataframe thead th {\n",
       "        text-align: right;\n",
       "    }\n",
       "</style>\n",
       "<table border=\"1\" class=\"dataframe\">\n",
       "  <thead>\n",
       "    <tr style=\"text-align: right;\">\n",
       "      <th></th>\n",
       "      <th>genres</th>\n",
       "      <th>total_gross</th>\n",
       "    </tr>\n",
       "  </thead>\n",
       "  <tbody>\n",
       "    <tr>\n",
       "      <th>0</th>\n",
       "      <td>Action &amp; Adventure, Science Fiction &amp; Fantasy</td>\n",
       "      <td>9162286999.00</td>\n",
       "    </tr>\n",
       "    <tr>\n",
       "      <th>1</th>\n",
       "      <td>Comedy</td>\n",
       "      <td>7536644198.00</td>\n",
       "    </tr>\n",
       "    <tr>\n",
       "      <th>2</th>\n",
       "      <td>Action &amp; Adventure, Drama, Science Fiction &amp; F...</td>\n",
       "      <td>6356199999.00</td>\n",
       "    </tr>\n",
       "    <tr>\n",
       "      <th>3</th>\n",
       "      <td>Drama</td>\n",
       "      <td>5799617297.00</td>\n",
       "    </tr>\n",
       "    <tr>\n",
       "      <th>4</th>\n",
       "      <td>Animation, Comedy, Kids &amp; Family</td>\n",
       "      <td>3513100000.00</td>\n",
       "    </tr>\n",
       "  </tbody>\n",
       "</table>\n",
       "</div>"
      ],
      "text/plain": [
       "                                              genres   total_gross\n",
       "0      Action & Adventure, Science Fiction & Fantasy 9162286999.00\n",
       "1                                             Comedy 7536644198.00\n",
       "2  Action & Adventure, Drama, Science Fiction & F... 6356199999.00\n",
       "3                                              Drama 5799617297.00\n",
       "4                   Animation, Comedy, Kids & Family 3513100000.00"
      ]
     },
     "execution_count": 97,
     "metadata": {},
     "output_type": "execute_result"
    }
   ],
   "source": [
    "cur.execute(\"\"\"SELECT genres, sum(domestic_gross) AS total_gross\n",
    "               FROM rotten_tomatoes_movies\n",
    "               JOIN bom_movie_gross\n",
    "               ON rotten_tomatoes_movies.movie_title = bom_movie_gross.title\n",
    "               WHERE year >= 2010\n",
    "               GROUP BY genres\n",
    "               ORDER BY total_gross DESC\"\"\")\n",
    "\n",
    "df_genres = pd.DataFrame(cur.fetchall())\n",
    "df_genres.columns = [x[0] for x in cur.description]\n",
    "df_genres.head()"
   ]
  },
  {
   "cell_type": "markdown",
   "metadata": {},
   "source": [
    "Now let's visualize and compare."
   ]
  },
  {
   "cell_type": "code",
   "execution_count": 98,
   "metadata": {},
   "outputs": [
    {
     "data": {
      "image/png": "[encoded data removed]",
      "text/plain": [
       "<Figure size 432x288 with 1 Axes>"
      ]
     },
     "metadata": {
      "needs_background": "light"
     },
     "output_type": "display_data"
    }
   ],
   "source": [
    "plt.bar(df_genres['genres'][:5], df_genres['total_gross'][:5], color = red_color_palette)\n",
    "plt.title('Total Gross based on movie genre', size = 20)\n",
    "plt.xticks(rotation = 85, size = 10)\n",
    "plt.yticks(size = 10)\n",
    "plt.xlabel('Genres', size = 15)\n",
    "plt.ylabel('Total Gross in billions', size=15)\n",
    "plt.savefig('top_genres_bar.png')\n",
    "plt.show()"
   ]
  },
  {
   "cell_type": "code",
   "execution_count": null,
   "metadata": {},
   "outputs": [],
   "source": []
  }
 ],
 "metadata": {
  "kernelspec": {
   "display_name": "learn-env",
   "language": "python",
   "name": "learn-env"
  },
  "language_info": {
   "codemirror_mode": {
    "name": "ipython",
    "version": 3
   },
   "file_extension": ".py",
   "mimetype": "text/x-python",
   "name": "python",
   "nbconvert_exporter": "python",
   "pygments_lexer": "ipython3",
   "version": "3.8.5"
  }
 },
 "nbformat": 4,
 "nbformat_minor": 4
}
