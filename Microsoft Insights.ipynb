{
 "cells": [
  {
   "cell_type": "markdown",
   "metadata": {},
   "source": [
    "# Microsoft Insights #"
   ]
  },
  {
   "cell_type": "markdown",
   "metadata": {},
   "source": [
    "## Objective: ##\n",
    "Microsoft has tasked us with figuring out what types of films are currently doing the best at the box office."
   ]
  },
  {
   "cell_type": "markdown",
   "metadata": {},
   "source": [
    "A database has been provided under as `movies.db`. We will use this dataset to make insights and visualizations that can help its shareholders make educated decisions about the type of movies that they are going to pursue."
   ]
  },
  {
   "cell_type": "markdown",
   "metadata": {},
   "source": [
    "We will start by importing all the necessary libraries to explore our dataset and visualize it:"
   ]
  },
  {
   "cell_type": "code",
   "execution_count": 1,
   "metadata": {},
   "outputs": [],
   "source": [
    "import pandas as pd\n",
    "import sqlite3\n",
    "import matplotlib.pyplot as plt\n",
    "%matplotlib inline\n",
    "import numpy as np"
   ]
  },
  {
   "cell_type": "markdown",
   "metadata": {},
   "source": [
    "## Exploring the Data"
   ]
  },
  {
   "cell_type": "markdown",
   "metadata": {},
   "source": [
    "Transform the database into an easy to read `DataFrame` using the Pandas library."
   ]
  },
  {
   "cell_type": "markdown",
   "metadata": {},
   "source": [
    "Explore the data in the table `rotten_tomatoes_movies`."
   ]
  },
  {
   "cell_type": "code",
   "execution_count": 2,
   "metadata": {},
   "outputs": [
    {
     "data": {
      "text/html": [
       "<div>\n",
       "<style scoped>\n",
       "    .dataframe tbody tr th:only-of-type {\n",
       "        vertical-align: middle;\n",
       "    }\n",
       "\n",
       "    .dataframe tbody tr th {\n",
       "        vertical-align: top;\n",
       "    }\n",
       "\n",
       "    .dataframe thead th {\n",
       "        text-align: right;\n",
       "    }\n",
       "</style>\n",
       "<table border=\"1\" class=\"dataframe\">\n",
       "  <thead>\n",
       "    <tr style=\"text-align: right;\">\n",
       "      <th></th>\n",
       "      <th>idx</th>\n",
       "      <th>rotten_tomatoes_link</th>\n",
       "      <th>movie_title</th>\n",
       "      <th>movie_info</th>\n",
       "      <th>critics_consensus</th>\n",
       "      <th>content_rating</th>\n",
       "      <th>genres</th>\n",
       "      <th>directors</th>\n",
       "      <th>authors</th>\n",
       "      <th>actors</th>\n",
       "      <th>...</th>\n",
       "      <th>production_company</th>\n",
       "      <th>tomatometer_status</th>\n",
       "      <th>tomatometer_rating</th>\n",
       "      <th>tomatometer_count</th>\n",
       "      <th>audience_status</th>\n",
       "      <th>audience_rating</th>\n",
       "      <th>audience_count</th>\n",
       "      <th>tomatometer_top_critics_count</th>\n",
       "      <th>tomatometer_fresh_critics_count</th>\n",
       "      <th>tomatometer_rotten_critics_count</th>\n",
       "    </tr>\n",
       "  </thead>\n",
       "  <tbody>\n",
       "    <tr>\n",
       "      <th>0</th>\n",
       "      <td>0</td>\n",
       "      <td>m/0814255</td>\n",
       "      <td>Percy Jackson &amp; the Olympians: The Lightning T...</td>\n",
       "      <td>Always trouble-prone, the life of teenager Per...</td>\n",
       "      <td>Though it may seem like just another Harry Pot...</td>\n",
       "      <td>PG</td>\n",
       "      <td>Action &amp; Adventure, Comedy, Drama, Science Fic...</td>\n",
       "      <td>Chris Columbus</td>\n",
       "      <td>Craig Titley, Chris Columbus, Rick Riordan</td>\n",
       "      <td>Logan Lerman, Brandon T. Jackson, Alexandra Da...</td>\n",
       "      <td>...</td>\n",
       "      <td>20th Century Fox</td>\n",
       "      <td>Rotten</td>\n",
       "      <td>49.0</td>\n",
       "      <td>149.0</td>\n",
       "      <td>Spilled</td>\n",
       "      <td>53.0</td>\n",
       "      <td>254421.0</td>\n",
       "      <td>43</td>\n",
       "      <td>73</td>\n",
       "      <td>76</td>\n",
       "    </tr>\n",
       "    <tr>\n",
       "      <th>1</th>\n",
       "      <td>1</td>\n",
       "      <td>m/0878835</td>\n",
       "      <td>Please Give</td>\n",
       "      <td>Kate (Catherine Keener) and her husband Alex (...</td>\n",
       "      <td>Nicole Holofcener's newest might seem slight i...</td>\n",
       "      <td>R</td>\n",
       "      <td>Comedy</td>\n",
       "      <td>Nicole Holofcener</td>\n",
       "      <td>Nicole Holofcener</td>\n",
       "      <td>Catherine Keener, Amanda Peet, Oliver Platt, R...</td>\n",
       "      <td>...</td>\n",
       "      <td>Sony Pictures Classics</td>\n",
       "      <td>Certified-Fresh</td>\n",
       "      <td>87.0</td>\n",
       "      <td>142.0</td>\n",
       "      <td>Upright</td>\n",
       "      <td>64.0</td>\n",
       "      <td>11574.0</td>\n",
       "      <td>44</td>\n",
       "      <td>123</td>\n",
       "      <td>19</td>\n",
       "    </tr>\n",
       "    <tr>\n",
       "      <th>2</th>\n",
       "      <td>2</td>\n",
       "      <td>m/10</td>\n",
       "      <td>10</td>\n",
       "      <td>A successful, middle-aged Hollywood songwriter...</td>\n",
       "      <td>Blake Edwards' bawdy comedy may not score a pe...</td>\n",
       "      <td>R</td>\n",
       "      <td>Comedy, Romance</td>\n",
       "      <td>Blake Edwards</td>\n",
       "      <td>Blake Edwards</td>\n",
       "      <td>Dudley Moore, Bo Derek, Julie Andrews, Robert ...</td>\n",
       "      <td>...</td>\n",
       "      <td>Waner Bros.</td>\n",
       "      <td>Fresh</td>\n",
       "      <td>67.0</td>\n",
       "      <td>24.0</td>\n",
       "      <td>Spilled</td>\n",
       "      <td>53.0</td>\n",
       "      <td>14684.0</td>\n",
       "      <td>2</td>\n",
       "      <td>16</td>\n",
       "      <td>8</td>\n",
       "    </tr>\n",
       "    <tr>\n",
       "      <th>3</th>\n",
       "      <td>3</td>\n",
       "      <td>m/1000013-12_angry_men</td>\n",
       "      <td>12 Angry Men (Twelve Angry Men)</td>\n",
       "      <td>Following the closing arguments in a murder tr...</td>\n",
       "      <td>Sidney Lumet's feature debut is a superbly wri...</td>\n",
       "      <td>NR</td>\n",
       "      <td>Classics, Drama</td>\n",
       "      <td>Sidney Lumet</td>\n",
       "      <td>Reginald Rose</td>\n",
       "      <td>Martin Balsam, John Fiedler, Lee J. Cobb, E.G....</td>\n",
       "      <td>...</td>\n",
       "      <td>Criterion Collection</td>\n",
       "      <td>Certified-Fresh</td>\n",
       "      <td>100.0</td>\n",
       "      <td>54.0</td>\n",
       "      <td>Upright</td>\n",
       "      <td>97.0</td>\n",
       "      <td>105386.0</td>\n",
       "      <td>6</td>\n",
       "      <td>54</td>\n",
       "      <td>0</td>\n",
       "    </tr>\n",
       "    <tr>\n",
       "      <th>4</th>\n",
       "      <td>4</td>\n",
       "      <td>m/1000079-20000_leagues_under_the_sea</td>\n",
       "      <td>20,000 Leagues Under The Sea</td>\n",
       "      <td>In 1866, Professor Pierre M. Aronnax (Paul Luk...</td>\n",
       "      <td>One of Disney's finest live-action adventures,...</td>\n",
       "      <td>G</td>\n",
       "      <td>Action &amp; Adventure, Drama, Kids &amp; Family</td>\n",
       "      <td>Richard Fleischer</td>\n",
       "      <td>Earl Felton</td>\n",
       "      <td>James Mason, Kirk Douglas, Paul Lukas, Peter L...</td>\n",
       "      <td>...</td>\n",
       "      <td>Disney</td>\n",
       "      <td>Fresh</td>\n",
       "      <td>89.0</td>\n",
       "      <td>27.0</td>\n",
       "      <td>Upright</td>\n",
       "      <td>74.0</td>\n",
       "      <td>68918.0</td>\n",
       "      <td>5</td>\n",
       "      <td>24</td>\n",
       "      <td>3</td>\n",
       "    </tr>\n",
       "  </tbody>\n",
       "</table>\n",
       "<p>5 rows × 23 columns</p>\n",
       "</div>"
      ],
      "text/plain": [
       "   idx                   rotten_tomatoes_link  \\\n",
       "0    0                              m/0814255   \n",
       "1    1                              m/0878835   \n",
       "2    2                                   m/10   \n",
       "3    3                 m/1000013-12_angry_men   \n",
       "4    4  m/1000079-20000_leagues_under_the_sea   \n",
       "\n",
       "                                         movie_title  \\\n",
       "0  Percy Jackson & the Olympians: The Lightning T...   \n",
       "1                                        Please Give   \n",
       "2                                                 10   \n",
       "3                    12 Angry Men (Twelve Angry Men)   \n",
       "4                       20,000 Leagues Under The Sea   \n",
       "\n",
       "                                          movie_info  \\\n",
       "0  Always trouble-prone, the life of teenager Per...   \n",
       "1  Kate (Catherine Keener) and her husband Alex (...   \n",
       "2  A successful, middle-aged Hollywood songwriter...   \n",
       "3  Following the closing arguments in a murder tr...   \n",
       "4  In 1866, Professor Pierre M. Aronnax (Paul Luk...   \n",
       "\n",
       "                                   critics_consensus content_rating  \\\n",
       "0  Though it may seem like just another Harry Pot...             PG   \n",
       "1  Nicole Holofcener's newest might seem slight i...              R   \n",
       "2  Blake Edwards' bawdy comedy may not score a pe...              R   \n",
       "3  Sidney Lumet's feature debut is a superbly wri...             NR   \n",
       "4  One of Disney's finest live-action adventures,...              G   \n",
       "\n",
       "                                              genres          directors  \\\n",
       "0  Action & Adventure, Comedy, Drama, Science Fic...     Chris Columbus   \n",
       "1                                             Comedy  Nicole Holofcener   \n",
       "2                                    Comedy, Romance      Blake Edwards   \n",
       "3                                    Classics, Drama       Sidney Lumet   \n",
       "4           Action & Adventure, Drama, Kids & Family  Richard Fleischer   \n",
       "\n",
       "                                      authors  \\\n",
       "0  Craig Titley, Chris Columbus, Rick Riordan   \n",
       "1                           Nicole Holofcener   \n",
       "2                               Blake Edwards   \n",
       "3                               Reginald Rose   \n",
       "4                                 Earl Felton   \n",
       "\n",
       "                                              actors  ...  \\\n",
       "0  Logan Lerman, Brandon T. Jackson, Alexandra Da...  ...   \n",
       "1  Catherine Keener, Amanda Peet, Oliver Platt, R...  ...   \n",
       "2  Dudley Moore, Bo Derek, Julie Andrews, Robert ...  ...   \n",
       "3  Martin Balsam, John Fiedler, Lee J. Cobb, E.G....  ...   \n",
       "4  James Mason, Kirk Douglas, Paul Lukas, Peter L...  ...   \n",
       "\n",
       "       production_company tomatometer_status  tomatometer_rating  \\\n",
       "0        20th Century Fox             Rotten                49.0   \n",
       "1  Sony Pictures Classics    Certified-Fresh                87.0   \n",
       "2             Waner Bros.              Fresh                67.0   \n",
       "3    Criterion Collection    Certified-Fresh               100.0   \n",
       "4                  Disney              Fresh                89.0   \n",
       "\n",
       "  tomatometer_count audience_status  audience_rating  audience_count  \\\n",
       "0             149.0         Spilled             53.0        254421.0   \n",
       "1             142.0         Upright             64.0         11574.0   \n",
       "2              24.0         Spilled             53.0         14684.0   \n",
       "3              54.0         Upright             97.0        105386.0   \n",
       "4              27.0         Upright             74.0         68918.0   \n",
       "\n",
       "  tomatometer_top_critics_count  tomatometer_fresh_critics_count  \\\n",
       "0                            43                               73   \n",
       "1                            44                              123   \n",
       "2                             2                               16   \n",
       "3                             6                               54   \n",
       "4                             5                               24   \n",
       "\n",
       "   tomatometer_rotten_critics_count  \n",
       "0                                76  \n",
       "1                                19  \n",
       "2                                 8  \n",
       "3                                 0  \n",
       "4                                 3  \n",
       "\n",
       "[5 rows x 23 columns]"
      ]
     },
     "execution_count": 2,
     "metadata": {},
     "output_type": "execute_result"
    }
   ],
   "source": [
    "conn = sqlite3.connect('data/movies.db')\n",
    "cur = conn.cursor()\n",
    "cur.execute(\"\"\"SELECT * FROM rotten_tomatoes_movies\"\"\")\n",
    "\n",
    "rottenTomatoesMovies = pd.DataFrame(cur.fetchall())\n",
    "rottenTomatoesMovies.columns = [x[0] for x in cur.description]\n",
    "rottenTomatoesMovies.head()"
   ]
  },
  {
   "cell_type": "code",
   "execution_count": 3,
   "metadata": {},
   "outputs": [
    {
     "name": "stdout",
     "output_type": "stream",
     "text": [
      "<class 'pandas.core.frame.DataFrame'>\n",
      "RangeIndex: 17712 entries, 0 to 17711\n",
      "Data columns (total 23 columns):\n",
      " #   Column                            Non-Null Count  Dtype  \n",
      "---  ------                            --------------  -----  \n",
      " 0   idx                               17712 non-null  int64  \n",
      " 1   rotten_tomatoes_link              17712 non-null  object \n",
      " 2   movie_title                       17712 non-null  object \n",
      " 3   movie_info                        17391 non-null  object \n",
      " 4   critics_consensus                 9134 non-null   object \n",
      " 5   content_rating                    17712 non-null  object \n",
      " 6   genres                            17693 non-null  object \n",
      " 7   directors                         17518 non-null  object \n",
      " 8   authors                           16170 non-null  object \n",
      " 9   actors                            17360 non-null  object \n",
      " 10  original_release_date             16546 non-null  object \n",
      " 11  streaming_release_date            17328 non-null  object \n",
      " 12  runtime                           17398 non-null  float64\n",
      " 13  production_company                17213 non-null  object \n",
      " 14  tomatometer_status                17668 non-null  object \n",
      " 15  tomatometer_rating                17668 non-null  float64\n",
      " 16  tomatometer_count                 17668 non-null  float64\n",
      " 17  audience_status                   17264 non-null  object \n",
      " 18  audience_rating                   17416 non-null  float64\n",
      " 19  audience_count                    17415 non-null  float64\n",
      " 20  tomatometer_top_critics_count     17712 non-null  int64  \n",
      " 21  tomatometer_fresh_critics_count   17712 non-null  int64  \n",
      " 22  tomatometer_rotten_critics_count  17712 non-null  int64  \n",
      "dtypes: float64(5), int64(4), object(14)\n",
      "memory usage: 3.1+ MB\n"
     ]
    }
   ],
   "source": [
    "rottenTomatoesMovies.info()"
   ]
  },
  {
   "cell_type": "markdown",
   "metadata": {},
   "source": [
    "Explore the data in `bom_movie_gross`."
   ]
  },
  {
   "cell_type": "code",
   "execution_count": 4,
   "metadata": {},
   "outputs": [
    {
     "data": {
      "text/html": [
       "<div>\n",
       "<style scoped>\n",
       "    .dataframe tbody tr th:only-of-type {\n",
       "        vertical-align: middle;\n",
       "    }\n",
       "\n",
       "    .dataframe tbody tr th {\n",
       "        vertical-align: top;\n",
       "    }\n",
       "\n",
       "    .dataframe thead th {\n",
       "        text-align: right;\n",
       "    }\n",
       "</style>\n",
       "<table border=\"1\" class=\"dataframe\">\n",
       "  <thead>\n",
       "    <tr style=\"text-align: right;\">\n",
       "      <th></th>\n",
       "      <th>idx</th>\n",
       "      <th>title</th>\n",
       "      <th>studio</th>\n",
       "      <th>domestic_gross</th>\n",
       "      <th>foreign_gross</th>\n",
       "      <th>year</th>\n",
       "    </tr>\n",
       "  </thead>\n",
       "  <tbody>\n",
       "    <tr>\n",
       "      <th>0</th>\n",
       "      <td>0</td>\n",
       "      <td>Toy Story 3</td>\n",
       "      <td>BV</td>\n",
       "      <td>415000000.0</td>\n",
       "      <td>652000000</td>\n",
       "      <td>2010</td>\n",
       "    </tr>\n",
       "    <tr>\n",
       "      <th>1</th>\n",
       "      <td>1</td>\n",
       "      <td>Alice in Wonderland (2010)</td>\n",
       "      <td>BV</td>\n",
       "      <td>334200000.0</td>\n",
       "      <td>691300000</td>\n",
       "      <td>2010</td>\n",
       "    </tr>\n",
       "    <tr>\n",
       "      <th>2</th>\n",
       "      <td>2</td>\n",
       "      <td>Harry Potter and the Deathly Hallows Part 1</td>\n",
       "      <td>WB</td>\n",
       "      <td>296000000.0</td>\n",
       "      <td>664300000</td>\n",
       "      <td>2010</td>\n",
       "    </tr>\n",
       "    <tr>\n",
       "      <th>3</th>\n",
       "      <td>3</td>\n",
       "      <td>Inception</td>\n",
       "      <td>WB</td>\n",
       "      <td>292600000.0</td>\n",
       "      <td>535700000</td>\n",
       "      <td>2010</td>\n",
       "    </tr>\n",
       "    <tr>\n",
       "      <th>4</th>\n",
       "      <td>4</td>\n",
       "      <td>Shrek Forever After</td>\n",
       "      <td>P/DW</td>\n",
       "      <td>238700000.0</td>\n",
       "      <td>513900000</td>\n",
       "      <td>2010</td>\n",
       "    </tr>\n",
       "  </tbody>\n",
       "</table>\n",
       "</div>"
      ],
      "text/plain": [
       "   idx                                        title studio  domestic_gross  \\\n",
       "0    0                                  Toy Story 3     BV     415000000.0   \n",
       "1    1                   Alice in Wonderland (2010)     BV     334200000.0   \n",
       "2    2  Harry Potter and the Deathly Hallows Part 1     WB     296000000.0   \n",
       "3    3                                    Inception     WB     292600000.0   \n",
       "4    4                          Shrek Forever After   P/DW     238700000.0   \n",
       "\n",
       "  foreign_gross  year  \n",
       "0     652000000  2010  \n",
       "1     691300000  2010  \n",
       "2     664300000  2010  \n",
       "3     535700000  2010  \n",
       "4     513900000  2010  "
      ]
     },
     "execution_count": 4,
     "metadata": {},
     "output_type": "execute_result"
    }
   ],
   "source": [
    "cur.execute(\"\"\"SELECT * FROM bom_movie_gross\"\"\")\n",
    "\n",
    "df = pd.DataFrame(cur.fetchall())\n",
    "df.columns = [x[0] for x in cur.description]\n",
    "df.head()"
   ]
  },
  {
   "cell_type": "code",
   "execution_count": 5,
   "metadata": {},
   "outputs": [
    {
     "name": "stdout",
     "output_type": "stream",
     "text": [
      "<class 'pandas.core.frame.DataFrame'>\n",
      "RangeIndex: 3387 entries, 0 to 3386\n",
      "Data columns (total 6 columns):\n",
      " #   Column          Non-Null Count  Dtype  \n",
      "---  ------          --------------  -----  \n",
      " 0   idx             3387 non-null   int64  \n",
      " 1   title           3387 non-null   object \n",
      " 2   studio          3382 non-null   object \n",
      " 3   domestic_gross  3359 non-null   float64\n",
      " 4   foreign_gross   2037 non-null   object \n",
      " 5   year            3387 non-null   int64  \n",
      "dtypes: float64(1), int64(2), object(3)\n",
      "memory usage: 158.9+ KB\n"
     ]
    }
   ],
   "source": [
    "df.info()"
   ]
  },
  {
   "cell_type": "markdown",
   "metadata": {},
   "source": [
    "## What production company produced the most movies in the decade? ## "
   ]
  },
  {
   "cell_type": "markdown",
   "metadata": {},
   "source": [
    "Select the name of the `Production Company` and the ` Count of Movies` from the table `rotten_tomatoes_movies` and ordering in descending order to view which `Production Comapny` takes on the most movie projects."
   ]
  },
  {
   "cell_type": "code",
   "execution_count": 6,
   "metadata": {},
   "outputs": [
    {
     "data": {
      "text/html": [
       "<div>\n",
       "<style scoped>\n",
       "    .dataframe tbody tr th:only-of-type {\n",
       "        vertical-align: middle;\n",
       "    }\n",
       "\n",
       "    .dataframe tbody tr th {\n",
       "        vertical-align: top;\n",
       "    }\n",
       "\n",
       "    .dataframe thead th {\n",
       "        text-align: right;\n",
       "    }\n",
       "</style>\n",
       "<table border=\"1\" class=\"dataframe\">\n",
       "  <thead>\n",
       "    <tr style=\"text-align: right;\">\n",
       "      <th></th>\n",
       "      <th>production_company</th>\n",
       "      <th>sum_of_movies</th>\n",
       "      <th>average_gross</th>\n",
       "      <th>per_movie_gross</th>\n",
       "    </tr>\n",
       "  </thead>\n",
       "  <tbody>\n",
       "    <tr>\n",
       "      <th>0</th>\n",
       "      <td>Disney/Pixar</td>\n",
       "      <td>4</td>\n",
       "      <td>324475000.000</td>\n",
       "      <td>81118750.000</td>\n",
       "    </tr>\n",
       "    <tr>\n",
       "      <th>1</th>\n",
       "      <td>MGM</td>\n",
       "      <td>3</td>\n",
       "      <td>156800000.000</td>\n",
       "      <td>52266666.667</td>\n",
       "    </tr>\n",
       "    <tr>\n",
       "      <th>2</th>\n",
       "      <td>Paramount</td>\n",
       "      <td>4</td>\n",
       "      <td>144275000.000</td>\n",
       "      <td>36068750.000</td>\n",
       "    </tr>\n",
       "    <tr>\n",
       "      <th>3</th>\n",
       "      <td>DreamWorks Animation</td>\n",
       "      <td>4</td>\n",
       "      <td>138800000.000</td>\n",
       "      <td>34700000.000</td>\n",
       "    </tr>\n",
       "    <tr>\n",
       "      <th>4</th>\n",
       "      <td>Twentieth Century Fox</td>\n",
       "      <td>3</td>\n",
       "      <td>69733333.333</td>\n",
       "      <td>23244444.444</td>\n",
       "    </tr>\n",
       "  </tbody>\n",
       "</table>\n",
       "</div>"
      ],
      "text/plain": [
       "      production_company  sum_of_movies  average_gross  per_movie_gross\n",
       "0           Disney/Pixar              4  324475000.000     81118750.000\n",
       "1                    MGM              3  156800000.000     52266666.667\n",
       "2              Paramount              4  144275000.000     36068750.000\n",
       "3   DreamWorks Animation              4  138800000.000     34700000.000\n",
       "4  Twentieth Century Fox              3   69733333.333     23244444.444"
      ]
     },
     "execution_count": 6,
     "metadata": {},
     "output_type": "execute_result"
    }
   ],
   "source": [
    "cur.execute(\"\"\"SELECT production_company, count(movie_title) AS sum_of_movies,\n",
    "               avg(domestic_gross) AS average_gross, avg(domestic_gross)/count(movie_title) AS per_movie_gross\n",
    "               FROM rotten_tomatoes_movies\n",
    "               JOIN bom_movie_gross\n",
    "               ON rotten_tomatoes_movies.movie_title = bom_movie_gross.title\n",
    "               WHERE year >= 2010\n",
    "               GROUP BY production_company\n",
    "               HAVING COUNT(movie_title) >= 3\n",
    "               ORDER BY per_movie_gross DESC\"\"\")\n",
    "\n",
    "df = pd.DataFrame(cur.fetchall())\n",
    "df.columns = [x[0] for x in cur.description]\n",
    "pd.set_option('display.float_format', lambda x: '%.3f' % x)\n",
    "df.head()"
   ]
  },
  {
   "cell_type": "markdown",
   "metadata": {},
   "source": [
    "It's time to visualize the above data in the DataFrame. To make it more presentable, a color scheme has been chosen to make it more visually appealing."
   ]
  },
  {
   "cell_type": "code",
   "execution_count": 8,
   "metadata": {},
   "outputs": [
    {
     "data": {
      "image/png": "[encoded data removed]",
      "text/plain": [
       "<Figure size 432x288 with 1 Axes>"
      ]
     },
     "metadata": {
      "needs_background": "light"
     },
     "output_type": "display_data"
    }
   ],
   "source": [
    "red_color_palette = ['salmon','tomato','darksalmon','rosybrown',\n",
    "                     'indianred','brown','firebrick','darkred','maroon','red']\n",
    "\n",
    "plt.barh(df.production_company[:10], df['per_movie_gross'][:10], edgecolor = 'black', color = red_color_palette)\n",
    "\n",
    "plt.title('Average Gross per Movie\\n by Production Company', fontname='arial', size=20)\n",
    "plt.xlabel('Average Gross in tens of millions', size=15, fontname='arial')\n",
    "plt.ylabel('Production Company', size=15, fontname ='arial')\n",
    "plt.rcParams['axes.facecolor'] = 'seashell'\n",
    "plt.show()"
   ]
  },
  {
   "cell_type": "markdown",
   "metadata": {},
   "source": [
    "# What studio generated the most gross? #"
   ]
  },
  {
   "cell_type": "markdown",
   "metadata": {},
   "source": [
    "The code below shows the total gross revenue domestically that each studio has generated in total starting from the year 2010 forward.\n",
    "\n",
    "Note that the `pd.set_option('display.float_format', lambda x: '%.3f' % x)` is used to remove the scientific notation that pandas would normally format the large numbers by."
   ]
  },
  {
   "cell_type": "code",
   "execution_count": 9,
   "metadata": {},
   "outputs": [
    {
     "data": {
      "text/html": [
       "<div>\n",
       "<style scoped>\n",
       "    .dataframe tbody tr th:only-of-type {\n",
       "        vertical-align: middle;\n",
       "    }\n",
       "\n",
       "    .dataframe tbody tr th {\n",
       "        vertical-align: top;\n",
       "    }\n",
       "\n",
       "    .dataframe thead th {\n",
       "        text-align: right;\n",
       "    }\n",
       "</style>\n",
       "<table border=\"1\" class=\"dataframe\">\n",
       "  <thead>\n",
       "    <tr style=\"text-align: right;\">\n",
       "      <th></th>\n",
       "      <th>studio</th>\n",
       "      <th>SUM</th>\n",
       "      <th>AVERAGE</th>\n",
       "    </tr>\n",
       "  </thead>\n",
       "  <tbody>\n",
       "    <tr>\n",
       "      <th>0</th>\n",
       "      <td>BV</td>\n",
       "      <td>15534080700.00</td>\n",
       "      <td>189440008.54</td>\n",
       "    </tr>\n",
       "    <tr>\n",
       "      <th>1</th>\n",
       "      <td>Uni.</td>\n",
       "      <td>12097022000.00</td>\n",
       "      <td>90276283.58</td>\n",
       "    </tr>\n",
       "    <tr>\n",
       "      <th>2</th>\n",
       "      <td>WB</td>\n",
       "      <td>9871000000.00</td>\n",
       "      <td>91398148.15</td>\n",
       "    </tr>\n",
       "    <tr>\n",
       "      <th>3</th>\n",
       "      <td>Fox</td>\n",
       "      <td>9429699998.00</td>\n",
       "      <td>83448672.55</td>\n",
       "    </tr>\n",
       "    <tr>\n",
       "      <th>4</th>\n",
       "      <td>Sony</td>\n",
       "      <td>7065690998.00</td>\n",
       "      <td>87230753.06</td>\n",
       "    </tr>\n",
       "  </tbody>\n",
       "</table>\n",
       "</div>"
      ],
      "text/plain": [
       "  studio            SUM      AVERAGE\n",
       "0     BV 15534080700.00 189440008.54\n",
       "1   Uni. 12097022000.00  90276283.58\n",
       "2     WB  9871000000.00  91398148.15\n",
       "3    Fox  9429699998.00  83448672.55\n",
       "4   Sony  7065690998.00  87230753.06"
      ]
     },
     "execution_count": 9,
     "metadata": {},
     "output_type": "execute_result"
    }
   ],
   "source": [
    "cur.execute(\"\"\"SELECT studio, sum(domestic_gross) AS SUM, avg(domestic_gross) AS AVERAGE FROM bom_movie_gross\n",
    "               JOIN rotten_tomatoes_movies\n",
    "               ON bom_movie_gross.title = rotten_tomatoes_movies.movie_title\n",
    "               WHERE year >= 2010\n",
    "               GROUP BY studio\n",
    "               ORDER BY SUM DESC\n",
    "               LIMIT 10;\"\"\")\n",
    "\n",
    "df = pd.DataFrame(cur.fetchall())\n",
    "df.columns = [x[0] for x in cur.description]\n",
    "pd.set_option('display.float_format', lambda x: '%.2f' % x)\n",
    "df.head()"
   ]
  },
  {
   "cell_type": "markdown",
   "metadata": {},
   "source": [
    "Now lets plot it in a bargraph to better compare the numbers earned in average and in total for each studio. Passing `plt.gcf().axes[0].yaxis.get_major_formatter().set_scientific(False)` allows the passing of the large numbers."
   ]
  },
  {
   "cell_type": "code",
   "execution_count": 10,
   "metadata": {
    "scrolled": false
   },
   "outputs": [
    {
     "data": {
      "image/png": "[encoded data removed]",
      "text/plain": [
       "<Figure size 432x288 with 1 Axes>"
      ]
     },
     "metadata": {
      "needs_background": "light"
     },
     "output_type": "display_data"
    }
   ],
   "source": [
    "plt.bar(df.studio, df['SUM'], edgecolor = 'black')\n",
    "\n",
    "y_pos = np.arange(len(df.studio))\n",
    "height = df['SUM']\n",
    "plt.xlabel('Studio Name', size=15, fontname = \"arial\")\n",
    "plt.ylabel('Sum of earnings', size = 15, fontname = 'arial')\n",
    "plt.title('Earnings of movie Studios\\n starting in the year 2010', size=20)\n",
    "plt.gcf().axes[0].yaxis.get_major_formatter().set_scientific(False)\n",
    "plt.bar(y_pos, height, color= red_color_palette)\n",
    "plt.show()"
   ]
  },
  {
   "cell_type": "markdown",
   "metadata": {},
   "source": [
    "# Find the directors that averaged the most gross #"
   ]
  },
  {
   "cell_type": "markdown",
   "metadata": {},
   "source": [
    "Use the table `rotten_tomatoes_movies` and `bom_movie_gross` and assgined to DataFrame **df_director**, apply some data cleaning and select the directors that averaged the most gross domestically."
   ]
  },
  {
   "cell_type": "code",
   "execution_count": 11,
   "metadata": {},
   "outputs": [
    {
     "data": {
      "text/html": [
       "<div>\n",
       "<style scoped>\n",
       "    .dataframe tbody tr th:only-of-type {\n",
       "        vertical-align: middle;\n",
       "    }\n",
       "\n",
       "    .dataframe tbody tr th {\n",
       "        vertical-align: top;\n",
       "    }\n",
       "\n",
       "    .dataframe thead th {\n",
       "        text-align: right;\n",
       "    }\n",
       "</style>\n",
       "<table border=\"1\" class=\"dataframe\">\n",
       "  <thead>\n",
       "    <tr style=\"text-align: right;\">\n",
       "      <th></th>\n",
       "      <th>directors</th>\n",
       "      <th>total_movies</th>\n",
       "      <th>average_gross_by_director</th>\n",
       "      <th>genres</th>\n",
       "      <th>max_rating</th>\n",
       "    </tr>\n",
       "  </thead>\n",
       "  <tbody>\n",
       "    <tr>\n",
       "      <th>0</th>\n",
       "      <td>Anthony Russo</td>\n",
       "      <td>2</td>\n",
       "      <td>543450000.00</td>\n",
       "      <td>Action &amp; Adventure, Science Fiction &amp; Fantasy</td>\n",
       "      <td>91.00</td>\n",
       "    </tr>\n",
       "    <tr>\n",
       "      <th>1</th>\n",
       "      <td>Andrew Stanton, Angus MacLane</td>\n",
       "      <td>1</td>\n",
       "      <td>486300000.00</td>\n",
       "      <td>Animation</td>\n",
       "      <td>94.00</td>\n",
       "    </tr>\n",
       "    <tr>\n",
       "      <th>2</th>\n",
       "      <td>Joss Whedon</td>\n",
       "      <td>1</td>\n",
       "      <td>459000000.00</td>\n",
       "      <td>Action &amp; Adventure, Science Fiction &amp; Fantasy</td>\n",
       "      <td>76.00</td>\n",
       "    </tr>\n",
       "    <tr>\n",
       "      <th>3</th>\n",
       "      <td>Lee Unkrich</td>\n",
       "      <td>1</td>\n",
       "      <td>415000000.00</td>\n",
       "      <td>Animation, Comedy, Kids &amp; Family</td>\n",
       "      <td>98.00</td>\n",
       "    </tr>\n",
       "    <tr>\n",
       "      <th>4</th>\n",
       "      <td>Patty Jenkins</td>\n",
       "      <td>1</td>\n",
       "      <td>412600000.00</td>\n",
       "      <td>Action &amp; Adventure, Drama, Science Fiction &amp; F...</td>\n",
       "      <td>93.00</td>\n",
       "    </tr>\n",
       "  </tbody>\n",
       "</table>\n",
       "</div>"
      ],
      "text/plain": [
       "                       directors  total_movies  average_gross_by_director  \\\n",
       "0                  Anthony Russo             2               543450000.00   \n",
       "1  Andrew Stanton, Angus MacLane             1               486300000.00   \n",
       "2                    Joss Whedon             1               459000000.00   \n",
       "3                    Lee Unkrich             1               415000000.00   \n",
       "4                  Patty Jenkins             1               412600000.00   \n",
       "\n",
       "                                              genres  max_rating  \n",
       "0      Action & Adventure, Science Fiction & Fantasy       91.00  \n",
       "1                                          Animation       94.00  \n",
       "2      Action & Adventure, Science Fiction & Fantasy       76.00  \n",
       "3                   Animation, Comedy, Kids & Family       98.00  \n",
       "4  Action & Adventure, Drama, Science Fiction & F...       93.00  "
      ]
     },
     "execution_count": 11,
     "metadata": {},
     "output_type": "execute_result"
    }
   ],
   "source": [
    "cur.execute(\"\"\"SELECT directors, count(directors) AS total_movies, \n",
    "               avg(domestic_gross) AS average_gross_by_director, genres, max(tomatometer_rating) AS max_rating\n",
    "               FROM rotten_tomatoes_movies\n",
    "               JOIN bom_movie_gross\n",
    "               ON rotten_tomatoes_movies.movie_title = bom_movie_gross.title\n",
    "               WHERE year >= 2010\n",
    "               GROUP BY directors\n",
    "               ORDER BY average_gross_by_director DESC\"\"\")\n",
    "\n",
    "df_director = pd.DataFrame(cur.fetchall())\n",
    "df_director.columns = [x[0] for x in cur.description]\n",
    "\n",
    "df_director = df_director.dropna()\n",
    "df_director.head()"
   ]
  },
  {
   "cell_type": "markdown",
   "metadata": {},
   "source": [
    "It is time to visualize it. To keep it in theme, we will use the same color palette."
   ]
  },
  {
   "cell_type": "code",
   "execution_count": 12,
   "metadata": {
    "scrolled": true
   },
   "outputs": [
    {
     "data": {
      "image/png": "[encoded data removed]",
      "text/plain": [
       "<Figure size 432x288 with 1 Axes>"
      ]
     },
     "metadata": {
      "needs_background": "light"
     },
     "output_type": "display_data"
    }
   ],
   "source": [
    "plt.barh(df_director.directors[:5], df_director['average_gross_by_director'][:5], \n",
    "         color=red_color_palette, edgecolor='black')\n",
    "\n",
    "plt.yticks(size = 10, fontname='arial')\n",
    "plt.xlabel('Average domestic gross\\n to the nearest 100th million', size = 15, fontname='arial')\n",
    "plt.xticks(size = 10, fontname='arial')\n",
    "plt.ylabel('Directors', size = 15, fontname = 'arial')\n",
    "plt.title('Average earnings per director', size=20, fontname = 'arial')\n",
    "plt.show()"
   ]
  },
  {
   "cell_type": "markdown",
   "metadata": {},
   "source": [
    "Now let's see some correlations between our data. We will use it to see if a certain movie metric has a significant impact in the earnings that the movie gains while in the boxoffice domestically. \n",
    "We will do this by defining the function `check_correlation` that will check the correlation coefficient of the gross and a desired metric and will return a statement that indicates if there is a correlation or not."
   ]
  },
  {
   "cell_type": "code",
   "execution_count": 13,
   "metadata": {},
   "outputs": [],
   "source": [
    "def check_correlation(x,y):\n",
    "    correlation = x.corr(y)\n",
    "    if correlation == 1:\n",
    "        return 'There is a strong positive correlation'\n",
    "    elif correlation > .2:\n",
    "        return 'There is a positive correlation'\n",
    "    elif correlation <= .2:\n",
    "        return 'There is a weak positive correlation'\n",
    "    elif correlation == 0:\n",
    "        return \"There is no correlation\"\n",
    "    else:\n",
    "        return 'There is a negative correlation'"
   ]
  },
  {
   "cell_type": "markdown",
   "metadata": {},
   "source": [
    "Now, we will visualize it and use our defined function to check for correlation."
   ]
  },
  {
   "cell_type": "code",
   "execution_count": 14,
   "metadata": {
    "scrolled": true
   },
   "outputs": [
    {
     "data": {
      "image/png": "[encoded data removed]",
      "text/plain": [
       "<Figure size 432x288 with 1 Axes>"
      ]
     },
     "metadata": {
      "needs_background": "light"
     },
     "output_type": "display_data"
    },
    {
     "data": {
      "text/plain": [
       "'There is a weak positive correlation'"
      ]
     },
     "execution_count": 14,
     "metadata": {},
     "output_type": "execute_result"
    }
   ],
   "source": [
    "averageRating = df_director.max_rating\n",
    "averageGross = df_director.average_gross_by_director\n",
    "\n",
    "plt.scatter(averageGross,averageRating, edgecolors='black', color = 'salmon')\n",
    "plt.ylabel('Rating', size=15, fontname ='arial')\n",
    "plt.xlabel('Gross in hundreds of millions', size=15, fontname='arial')\n",
    "plt.title('Correlation between the\\n rating and gross of a film', size= 20, fontname ='arial')\n",
    "plt.show()\n",
    "\n",
    "check_correlation(averageRating, averageGross)"
   ]
  },
  {
   "cell_type": "markdown",
   "metadata": {
    "scrolled": true
   },
   "source": [
    "There appears to be a \"weak positive correlation\". Because the correlation coefficient appears to be so low, it is likely that the rating of a movie does not have a vital role in the gross of a movie."
   ]
  },
  {
   "cell_type": "markdown",
   "metadata": {},
   "source": [
    "## Correlation between `Runtime` and `Domestic Gross` ##"
   ]
  },
  {
   "cell_type": "markdown",
   "metadata": {},
   "source": [
    "Now we want to see the correlation between Runtime and Domestic Gross. For that we will select the `movie_title` data, its `runtime`, and its `domestic_gross`.\n",
    "Let's create `df_runtime` that houses the data that we are looking for."
   ]
  },
  {
   "cell_type": "code",
   "execution_count": 15,
   "metadata": {},
   "outputs": [
    {
     "data": {
      "text/html": [
       "<div>\n",
       "<style scoped>\n",
       "    .dataframe tbody tr th:only-of-type {\n",
       "        vertical-align: middle;\n",
       "    }\n",
       "\n",
       "    .dataframe tbody tr th {\n",
       "        vertical-align: top;\n",
       "    }\n",
       "\n",
       "    .dataframe thead th {\n",
       "        text-align: right;\n",
       "    }\n",
       "</style>\n",
       "<table border=\"1\" class=\"dataframe\">\n",
       "  <thead>\n",
       "    <tr style=\"text-align: right;\">\n",
       "      <th></th>\n",
       "      <th>movie_title</th>\n",
       "      <th>runtime</th>\n",
       "      <th>domestic_gross</th>\n",
       "    </tr>\n",
       "  </thead>\n",
       "  <tbody>\n",
       "    <tr>\n",
       "      <th>0</th>\n",
       "      <td>Black Panther</td>\n",
       "      <td>134.00</td>\n",
       "      <td>700100000.00</td>\n",
       "    </tr>\n",
       "    <tr>\n",
       "      <th>1</th>\n",
       "      <td>Avengers: Infinity War</td>\n",
       "      <td>149.00</td>\n",
       "      <td>678800000.00</td>\n",
       "    </tr>\n",
       "    <tr>\n",
       "      <th>2</th>\n",
       "      <td>Jurassic World</td>\n",
       "      <td>124.00</td>\n",
       "      <td>652300000.00</td>\n",
       "    </tr>\n",
       "    <tr>\n",
       "      <th>3</th>\n",
       "      <td>Marvel's The Avengers</td>\n",
       "      <td>143.00</td>\n",
       "      <td>623400000.00</td>\n",
       "    </tr>\n",
       "    <tr>\n",
       "      <th>4</th>\n",
       "      <td>Star Wars: The Last Jedi</td>\n",
       "      <td>152.00</td>\n",
       "      <td>620200000.00</td>\n",
       "    </tr>\n",
       "  </tbody>\n",
       "</table>\n",
       "</div>"
      ],
      "text/plain": [
       "                movie_title  runtime  domestic_gross\n",
       "0             Black Panther   134.00    700100000.00\n",
       "1    Avengers: Infinity War   149.00    678800000.00\n",
       "2            Jurassic World   124.00    652300000.00\n",
       "3     Marvel's The Avengers   143.00    623400000.00\n",
       "4  Star Wars: The Last Jedi   152.00    620200000.00"
      ]
     },
     "execution_count": 15,
     "metadata": {},
     "output_type": "execute_result"
    }
   ],
   "source": [
    "cur.execute(\"\"\"SELECT movie_title, runtime, domestic_gross FROM rotten_tomatoes_movies\n",
    "               JOIN bom_movie_gross\n",
    "               ON rotten_tomatoes_movies.movie_title = bom_movie_gross.title\n",
    "               WHERE year >= 2010\n",
    "               ORDER BY domestic_gross DESC\"\"\")\n",
    "df_runtime = pd.DataFrame(cur.fetchall())\n",
    "df_runtime.columns = [x[0] for x in cur.description]\n",
    "df_runtime.head()"
   ]
  },
  {
   "cell_type": "code",
   "execution_count": 16,
   "metadata": {},
   "outputs": [
    {
     "data": {
      "text/plain": [
       "(136.3, 165.0, 137.5, 136.3, 103.0)"
      ]
     },
     "execution_count": 16,
     "metadata": {},
     "output_type": "execute_result"
    }
   ],
   "source": [
    "def ret_metrics(x):\n",
    "    return df_runtime[x][:10].mean(), df_runtime[x][:10].max(), df_runtime[x][:10].median(), df_runtime[x][:10].mean(), df_runtime[x][:10].min()\n",
    "\n",
    "ret_metrics('runtime')"
   ]
  },
  {
   "cell_type": "markdown",
   "metadata": {},
   "source": [
    "Time to visualize it, keeing it in theme!"
   ]
  },
  {
   "cell_type": "code",
   "execution_count": 17,
   "metadata": {},
   "outputs": [
    {
     "data": {
      "image/png": "[encoded data removed]",
      "text/plain": [
       "<Figure size 432x288 with 1 Axes>"
      ]
     },
     "metadata": {
      "needs_background": "light"
     },
     "output_type": "display_data"
    },
    {
     "data": {
      "text/plain": [
       "'There is a positive correlation'"
      ]
     },
     "execution_count": 17,
     "metadata": {},
     "output_type": "execute_result"
    }
   ],
   "source": [
    "runtime = df_runtime['runtime']\n",
    "grossByRuntime = df_runtime['domestic_gross']\n",
    "\n",
    "plt.scatter(runtime, grossByRuntime, edgecolor='black', color = 'salmon')\n",
    "plt.title('Correlation between movie\\n runtime and domestic gross', size= 20, fontname='arial')\n",
    "plt.xlabel('Runtime in minutes', size= 15, fontname='arial')\n",
    "plt.ylabel('Domestic Gross\\n in hundreds of millions', size = 15, fontname = 'arial')\n",
    "plt.show()\n",
    "check_correlation(runtime,grossByRuntime)"
   ]
  },
  {
   "cell_type": "markdown",
   "metadata": {},
   "source": [
    "It appears that there is a positive correlation between Domestic Gross and its Runtime, with the `average` runtime being of 136 minutes, the `minimum` runtime being 103 minutes, and the `max` runtime being of 165 minutes."
   ]
  },
  {
   "cell_type": "markdown",
   "metadata": {},
   "source": [
    "## What genre generated the most gross ##"
   ]
  },
  {
   "cell_type": "markdown",
   "metadata": {},
   "source": [
    "Let's create our DataFrame `df_genres` that calls for the genres and the sum of the domestic gross."
   ]
  },
  {
   "cell_type": "code",
   "execution_count": 18,
   "metadata": {
    "scrolled": true
   },
   "outputs": [
    {
     "data": {
      "text/html": [
       "<div>\n",
       "<style scoped>\n",
       "    .dataframe tbody tr th:only-of-type {\n",
       "        vertical-align: middle;\n",
       "    }\n",
       "\n",
       "    .dataframe tbody tr th {\n",
       "        vertical-align: top;\n",
       "    }\n",
       "\n",
       "    .dataframe thead th {\n",
       "        text-align: right;\n",
       "    }\n",
       "</style>\n",
       "<table border=\"1\" class=\"dataframe\">\n",
       "  <thead>\n",
       "    <tr style=\"text-align: right;\">\n",
       "      <th></th>\n",
       "      <th>genres</th>\n",
       "      <th>total_gross</th>\n",
       "    </tr>\n",
       "  </thead>\n",
       "  <tbody>\n",
       "    <tr>\n",
       "      <th>0</th>\n",
       "      <td>Action &amp; Adventure, Science Fiction &amp; Fantasy</td>\n",
       "      <td>9162286999.00</td>\n",
       "    </tr>\n",
       "    <tr>\n",
       "      <th>1</th>\n",
       "      <td>Comedy</td>\n",
       "      <td>7536644198.00</td>\n",
       "    </tr>\n",
       "    <tr>\n",
       "      <th>2</th>\n",
       "      <td>Action &amp; Adventure, Drama, Science Fiction &amp; F...</td>\n",
       "      <td>6356199999.00</td>\n",
       "    </tr>\n",
       "    <tr>\n",
       "      <th>3</th>\n",
       "      <td>Drama</td>\n",
       "      <td>5799617297.00</td>\n",
       "    </tr>\n",
       "    <tr>\n",
       "      <th>4</th>\n",
       "      <td>Animation, Comedy, Kids &amp; Family</td>\n",
       "      <td>3513100000.00</td>\n",
       "    </tr>\n",
       "  </tbody>\n",
       "</table>\n",
       "</div>"
      ],
      "text/plain": [
       "                                              genres   total_gross\n",
       "0      Action & Adventure, Science Fiction & Fantasy 9162286999.00\n",
       "1                                             Comedy 7536644198.00\n",
       "2  Action & Adventure, Drama, Science Fiction & F... 6356199999.00\n",
       "3                                              Drama 5799617297.00\n",
       "4                   Animation, Comedy, Kids & Family 3513100000.00"
      ]
     },
     "execution_count": 18,
     "metadata": {},
     "output_type": "execute_result"
    }
   ],
   "source": [
    "cur.execute(\"\"\"SELECT genres, sum(domestic_gross) AS total_gross\n",
    "               FROM rotten_tomatoes_movies\n",
    "               JOIN bom_movie_gross\n",
    "               ON rotten_tomatoes_movies.movie_title = bom_movie_gross.title\n",
    "               WHERE year >= 2010\n",
    "               GROUP BY genres\n",
    "               ORDER BY total_gross DESC\"\"\")\n",
    "\n",
    "df_genres = pd.DataFrame(cur.fetchall())\n",
    "df_genres.columns = [x[0] for x in cur.description]\n",
    "df_genres.head()"
   ]
  },
  {
   "cell_type": "markdown",
   "metadata": {},
   "source": [
    "Now let's visualize and compare."
   ]
  },
  {
   "cell_type": "code",
   "execution_count": 19,
   "metadata": {},
   "outputs": [
    {
     "data": {
      "image/png": "[encoded data removed]",
      "text/plain": [
       "<Figure size 432x288 with 1 Axes>"
      ]
     },
     "metadata": {
      "needs_background": "light"
     },
     "output_type": "display_data"
    }
   ],
   "source": [
    "plt.bar(df_genres['genres'][:5], df_genres['total_gross'][:5], color = red_color_palette, edgecolor='black')\n",
    "plt.title('Total Gross based on movie genre', size = 20)\n",
    "plt.xticks(rotation = 85, size = 10)\n",
    "plt.yticks(size = 10)\n",
    "plt.xlabel('Genres', size = 15)\n",
    "plt.ylabel('Total Gross in billions', size=15)\n",
    "plt.show()"
   ]
  }
 ],
 "metadata": {
  "kernelspec": {
   "display_name": "learn-env",
   "language": "python",
   "name": "learn-env"
  },
  "language_info": {
   "codemirror_mode": {
    "name": "ipython",
    "version": 3
   },
   "file_extension": ".py",
   "mimetype": "text/x-python",
   "name": "python",
   "nbconvert_exporter": "python",
   "pygments_lexer": "ipython3",
   "version": "3.8.5"
  }
 },
 "nbformat": 4,
 "nbformat_minor": 4
}
